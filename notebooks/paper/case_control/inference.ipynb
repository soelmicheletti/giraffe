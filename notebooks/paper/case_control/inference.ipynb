{
 "cells": [
  {
   "cell_type": "code",
   "execution_count": 1,
   "id": "5422d1f6-1899-44a5-a249-bc4874d48a9d",
   "metadata": {},
   "outputs": [],
   "source": [
    "import giraffe\n",
    "import numpy as np\n",
    "import pandas as pd"
   ]
  },
  {
   "cell_type": "markdown",
   "id": "ddde7955-06c0-4caf-91ff-82e90a183f2e",
   "metadata": {},
   "source": [
    "# BRCA\n",
    "## Loading the data"
   ]
  },
  {
   "cell_type": "code",
   "execution_count": 2,
   "id": "9bd2cd09-397a-4deb-b489-133667badfea",
   "metadata": {},
   "outputs": [],
   "source": [
    "gene_to_name = lambda gene : gene[0:15]\n",
    "\n",
    "expression_case = pd.read_csv(\"BRCA_case.csv\", index_col = 0)\n",
    "expression_control = pd.read_csv(\"BRCA_nat.csv\", index_col = 0)\n",
    "\n",
    "expression_case.index = map(gene_to_name, expression_case.index)\n",
    "expression_control.index = map(gene_to_name, expression_control.index)\n",
    "expression_case.sort_index(inplace=True)\n",
    "expression_control.sort_index(inplace=True)"
   ]
  },
  {
   "cell_type": "code",
   "execution_count": 18,
   "id": "ff196130-57d7-4884-94f5-778cd7780015",
   "metadata": {},
   "outputs": [],
   "source": [
    "motif = pd.read_csv(\"cancer_breast_otter_motif.csv\", index_col = 0)\n",
    "motif.sort_index(inplace=True)\n",
    "\n",
    "expression_case = expression_case.loc[expression_case.index.isin(motif.index),:]\n",
    "expression_control = expression_control.loc[expression_control.index.isin(motif.index),:]\n",
    "motif = motif.loc[motif.index.isin(expression_case.index), :]\n",
    "\n",
    "ppi = pd.read_csv(\"cancer_breast_otter_ppi.csv\", index_col = 0)"
   ]
  },
  {
   "cell_type": "markdown",
   "id": "66bfd1a4-a418-4d4b-a338-b9916fbf5864",
   "metadata": {},
   "source": [
    "## Inferring GIRAFFE GRNs"
   ]
  },
  {
   "cell_type": "code",
   "execution_count": 26,
   "id": "2c5d1c98-a81c-4815-ab17-f96a6b4c59f3",
   "metadata": {},
   "outputs": [],
   "source": [
    "R_case = giraffe.Giraffe(expression_case.to_numpy(), motif.to_numpy(), ppi.to_numpy()).get_regulation()"
   ]
  },
  {
   "cell_type": "code",
   "execution_count": 29,
   "id": "10078f15-22cf-4dfb-a63f-44e15049ac54",
   "metadata": {},
   "outputs": [],
   "source": [
    "R_control = giraffe.Giraffe(expression_control.to_numpy(), motif.to_numpy(), ppi.to_numpy()).get_regulation()"
   ]
  },
  {
   "cell_type": "code",
   "execution_count": 38,
   "id": "f8b71ccd-27c4-4a70-a1ce-79a018ac5194",
   "metadata": {},
   "outputs": [],
   "source": [
    "pd.DataFrame(R_case, index=motif.index, columns=motif.columns).to_csv(\"data/brca/network_case.tsv\", sep=\"\\t\")"
   ]
  },
  {
   "cell_type": "code",
   "execution_count": 39,
   "id": "377fbf47-e60b-48cf-bdf1-87397a53bbd4",
   "metadata": {},
   "outputs": [],
   "source": [
    "pd.DataFrame(R_control, index=motif.index, columns=motif.columns).to_csv(\"data/brca/network_control.tsv\", sep=\"\\t\")"
   ]
  },
  {
   "cell_type": "markdown",
   "id": "a273b0e2-bc95-4a43-9ad3-afa20ad82988",
   "metadata": {},
   "source": [
    "# CESC\n",
    "## Loading the data"
   ]
  },
  {
   "cell_type": "code",
   "execution_count": 2,
   "id": "d0293701-2875-4037-bcf7-7b0b13fe85de",
   "metadata": {},
   "outputs": [],
   "source": [
    "gene_to_name = lambda gene : gene[0:15]\n",
    "\n",
    "expression_case = pd.read_csv(\"CESC_case.csv\", index_col = 0)\n",
    "expression_control = pd.read_csv(\"CESC_nat.csv\", index_col = 0)\n",
    "\n",
    "expression_case.index = map(gene_to_name, expression_case.index)\n",
    "expression_control.index = map(gene_to_name, expression_control.index)\n",
    "expression_case.sort_index(inplace=True)\n",
    "expression_control.sort_index(inplace=True)"
   ]
  },
  {
   "cell_type": "code",
   "execution_count": 3,
   "id": "adfc15ae-a474-4d58-9ddd-84e349be3b43",
   "metadata": {},
   "outputs": [],
   "source": [
    "motif = pd.read_csv(\"cancer_cervix_otter_motif.csv\", index_col = 0)\n",
    "motif.sort_index(inplace=True)\n",
    "\n",
    "expression_case = expression_case.loc[expression_case.index.isin(motif.index),:]\n",
    "expression_control = expression_control.loc[expression_control.index.isin(motif.index),:]\n",
    "motif = motif.loc[motif.index.isin(expression_case.index), :]\n",
    "\n",
    "ppi = pd.read_csv(\"cancer_cervix_otter_ppi.csv\", index_col = 0)"
   ]
  },
  {
   "cell_type": "markdown",
   "id": "649131b5-8d92-40fa-8e84-5802c2083264",
   "metadata": {},
   "source": [
    "## Inferring GIRAFFE GRNs "
   ]
  },
  {
   "cell_type": "code",
   "execution_count": 4,
   "id": "3d8b843c-3312-46b7-ab12-694f75bfc008",
   "metadata": {},
   "outputs": [],
   "source": [
    "R_case = giraffe.Giraffe(expression_case.to_numpy(), motif.to_numpy(), ppi.to_numpy()).get_regulation()"
   ]
  },
  {
   "cell_type": "code",
   "execution_count": 6,
   "id": "f12805ad-f559-47dc-994e-bc16cfcc30d8",
   "metadata": {},
   "outputs": [],
   "source": [
    "R_control = giraffe.Giraffe(expression_control.to_numpy(), motif.to_numpy(), ppi.to_numpy()).get_regulation()"
   ]
  },
  {
   "cell_type": "code",
   "execution_count": 5,
   "id": "94343840-a0bc-4923-9e89-7624e9ea6406",
   "metadata": {},
   "outputs": [],
   "source": [
    "pd.DataFrame(R_case, index=motif.index, columns=motif.columns).to_csv(\"data/cesc/network_case.tsv\", sep=\"\\t\")"
   ]
  },
  {
   "cell_type": "code",
   "execution_count": 7,
   "id": "1c8f0535-4406-4c01-8149-18d3c20fd37a",
   "metadata": {},
   "outputs": [],
   "source": [
    "pd.DataFrame(R_control, index=motif.index, columns=motif.columns).to_csv(\"data/cesc/network_control.tsv\", sep=\"\\t\")"
   ]
  },
  {
   "cell_type": "code",
   "execution_count": 10,
   "id": "da8f7024-d5b0-4700-be08-73f81acb42f8",
   "metadata": {},
   "outputs": [
    {
     "data": {
      "text/plain": [
       "array([[-1.41590017e-05, -5.42589878e-05, -2.13047952e-06, ...,\n",
       "        -1.15869830e-06, -6.58308352e-07, -1.10720403e-05],\n",
       "       [ 1.40295315e-05,  5.35938598e-05,  4.70353780e-06, ...,\n",
       "         3.68506630e-06,  2.90170965e-06,  1.14952563e-05],\n",
       "       [-4.69008728e-06, -2.08475158e-05, -1.51473614e-07, ...,\n",
       "         2.37834783e-07,  2.68224227e-07, -4.41910242e-06],\n",
       "       ...,\n",
       "       [-1.68665019e-06, -1.52168077e-05,  2.63134297e-07, ...,\n",
       "         2.95587341e-07,  6.61290699e-07,  1.19812995e-07],\n",
       "       [-1.62465331e-05, -6.49121503e-05, -2.94241158e-06, ...,\n",
       "        -1.96299834e-06, -1.10652149e-06, -1.08949371e-05],\n",
       "       [-1.84157088e-05, -6.99226875e-05, -3.28591864e-06, ...,\n",
       "        -2.11574365e-06, -1.37013478e-06, -1.32230189e-05]], dtype=float32)"
      ]
     },
     "execution_count": 10,
     "metadata": {},
     "output_type": "execute_result"
    }
   ],
   "source": [
    "R_control"
   ]
  },
  {
   "cell_type": "markdown",
   "id": "3f5da3b4-6320-4724-b750-b025a8a2c3d4",
   "metadata": {},
   "source": [
    "# LIHC\n",
    "## Loading the data"
   ]
  },
  {
   "cell_type": "code",
   "execution_count": 3,
   "id": "df70205f-53cf-4f48-8fb9-0daa8d23ac23",
   "metadata": {},
   "outputs": [],
   "source": [
    "gene_to_name = lambda gene : gene[0:15]\n",
    "\n",
    "expression_case = pd.read_csv(\"LIHC_case.csv\", index_col = 0)\n",
    "expression_control = pd.read_csv(\"LIHC_nat.csv\", index_col = 0)\n",
    "\n",
    "expression_case.index = map(gene_to_name, expression_case.index)\n",
    "expression_control.index = map(gene_to_name, expression_control.index)\n",
    "expression_case.sort_index(inplace=True)\n",
    "expression_control.sort_index(inplace=True)"
   ]
  },
  {
   "cell_type": "code",
   "execution_count": 5,
   "id": "4e5eb9e3-38fb-4d9b-8162-f4dac373df54",
   "metadata": {},
   "outputs": [],
   "source": [
    "motif = pd.read_csv(\"cancer_liver_otter_motif.csv\", index_col = 0)\n",
    "motif.sort_index(inplace=True)\n",
    "\n",
    "expression_case = expression_case.loc[expression_case.index.isin(motif.index),:]\n",
    "expression_control = expression_control.loc[expression_control.index.isin(motif.index),:]\n",
    "motif = motif.loc[motif.index.isin(expression_case.index), :]\n",
    "\n",
    "ppi = pd.read_csv(\"cancer_liver_otter_ppi.csv\", index_col = 0)"
   ]
  },
  {
   "cell_type": "markdown",
   "id": "bbac77df-93ea-49fc-8552-0b27fa40fbf9",
   "metadata": {},
   "source": [
    "## Inferring GIRAFFE GRNs"
   ]
  },
  {
   "cell_type": "code",
   "execution_count": 6,
   "id": "fb381470-0a2e-43b6-843e-e737a8c74754",
   "metadata": {},
   "outputs": [],
   "source": [
    "R_case = giraffe.Giraffe(expression_case.to_numpy(), motif.to_numpy(), ppi.to_numpy()).get_regulation()"
   ]
  },
  {
   "cell_type": "code",
   "execution_count": 8,
   "id": "d22b2ef1-a218-4c7d-be22-024553a3abed",
   "metadata": {},
   "outputs": [],
   "source": [
    "R_control = giraffe.Giraffe(expression_control.to_numpy(), motif.to_numpy(), ppi.to_numpy()).get_regulation()"
   ]
  },
  {
   "cell_type": "code",
   "execution_count": 7,
   "id": "81d88f6d-07c0-4ec3-8e06-79cacc81e360",
   "metadata": {},
   "outputs": [],
   "source": [
    "pd.DataFrame(R_case, index=motif.index, columns=motif.columns).to_csv(\"data/lihc/network_case.tsv\", sep=\"\\t\")"
   ]
  },
  {
   "cell_type": "code",
   "execution_count": 39,
   "id": "2579c138-448a-41e7-9909-916d24234f34",
   "metadata": {},
   "outputs": [],
   "source": [
    "pd.DataFrame(R_control, index=motif.index, columns=motif.columns).to_csv(\"data/lihc/network_control.tsv\", sep=\"\\t\")"
   ]
  },
  {
   "cell_type": "markdown",
   "id": "180c4202-3658-4534-8174-a27e03f48774",
   "metadata": {},
   "source": [
    "# LUAD\n",
    "## Loading the data"
   ]
  },
  {
   "cell_type": "code",
   "execution_count": 2,
   "id": "ccf05c59-e8fb-483c-94e2-15bbd29b5c97",
   "metadata": {},
   "outputs": [],
   "source": [
    "gene_to_name = lambda gene : gene[0:15]\n",
    "\n",
    "expression_case = pd.read_csv(\"LUAD_case.csv\", index_col = 0)\n",
    "expression_control = pd.read_csv(\"LUAD_nat.csv\", index_col = 0)\n",
    "\n",
    "expression_case.index = map(gene_to_name, expression_case.index)\n",
    "expression_control.index = map(gene_to_name, expression_control.index)\n",
    "expression_case.sort_index(inplace=True)\n",
    "expression_control.sort_index(inplace=True)"
   ]
  },
  {
   "cell_type": "code",
   "execution_count": 21,
   "id": "ce0a4b1d-7f69-4f9f-933f-e2f26076bfeb",
   "metadata": {},
   "outputs": [],
   "source": [
    "motif = pd.read_csv(\"motif.csv\", index_col = 0)\n",
    "ppi = pd.read_csv(\"ppi_matrix.csv\", index_col = 0)\n",
    "\n",
    "motif.sort_index(inplace=True)\n",
    "expression_case = expression_case.loc[expression_case.index.isin(motif.index),:]\n",
    "expression_control = expression_control.loc[expression_control.index.isin(motif.index),:]\n",
    "motif = motif.loc[motif.index.isin(expression_case.index), :]"
   ]
  },
  {
   "cell_type": "markdown",
   "id": "787da9d6-e168-4e06-a101-7100c3d30557",
   "metadata": {},
   "source": [
    "## Inferring GIRAFFE GRNs"
   ]
  },
  {
   "cell_type": "code",
   "execution_count": 29,
   "id": "f73fbdef-9f0a-493c-9433-47b983188561",
   "metadata": {},
   "outputs": [],
   "source": [
    "R_case = giraffe.Giraffe(expression_case.to_numpy(), motif.to_numpy(), ppi.to_numpy() + np.eye(644)).get_regulation()"
   ]
  },
  {
   "cell_type": "code",
   "execution_count": 31,
   "id": "76a7a524-39bb-4ec2-ba92-d1f8f7e77f0e",
   "metadata": {},
   "outputs": [],
   "source": [
    "R_control = giraffe.Giraffe(expression_control.to_numpy(), motif.to_numpy(), ppi.to_numpy() + np.eye(644)).get_regulation()"
   ]
  },
  {
   "cell_type": "code",
   "execution_count": 30,
   "id": "4d60d1eb-412b-4b59-8667-b8f962624b92",
   "metadata": {},
   "outputs": [],
   "source": [
    "pd.DataFrame(R_case, index=motif.index, columns=motif.columns).to_csv(\"data/luad/network_case.tsv\", sep=\"\\t\")"
   ]
  },
  {
   "cell_type": "code",
   "execution_count": 32,
   "id": "8b7d4594-ff2b-46bf-a57d-68b250b9bf96",
   "metadata": {},
   "outputs": [],
   "source": [
    "pd.DataFrame(R_control, index=motif.index, columns=motif.columns).to_csv(\"data/luad/network_control.tsv\", sep=\"\\t\")"
   ]
  },
  {
   "cell_type": "markdown",
   "id": "32b6c508-f5e6-463d-b1bd-82697707e36a",
   "metadata": {},
   "source": [
    "# THCA\n",
    "## Loading the data"
   ]
  },
  {
   "cell_type": "code",
   "execution_count": 3,
   "id": "ded619fd-b4b5-4d22-9b35-6e644bfc3bc5",
   "metadata": {},
   "outputs": [],
   "source": [
    "gene_to_name = lambda gene : gene[0:15]\n",
    "\n",
    "expression_case = pd.read_csv(\"THCA_case.csv\", index_col = 0)\n",
    "expression_control = pd.read_csv(\"THCA_nat.csv\", index_col = 0)\n",
    "\n",
    "expression_case.index = map(gene_to_name, expression_case.index)\n",
    "expression_control.index = map(gene_to_name, expression_control.index)\n",
    "expression_case.sort_index(inplace=True)\n",
    "expression_control.sort_index(inplace=True)"
   ]
  },
  {
   "cell_type": "code",
   "execution_count": 4,
   "id": "2ab16783-201c-45e0-881d-11eab003eea9",
   "metadata": {},
   "outputs": [],
   "source": [
    "motif = pd.read_csv(\"motif.csv\", index_col = 0)\n",
    "ppi = pd.read_csv(\"ppi_matrix.csv\", index_col = 0)\n",
    "\n",
    "motif.sort_index(inplace=True)\n",
    "expression_case = expression_case.loc[expression_case.index.isin(motif.index),:]\n",
    "expression_control = expression_control.loc[expression_control.index.isin(motif.index),:]\n",
    "motif = motif.loc[motif.index.isin(expression_case.index), :]"
   ]
  },
  {
   "cell_type": "markdown",
   "id": "77b058bf-db30-440a-9eab-fd2e019c8f45",
   "metadata": {},
   "source": [
    "## Inferring GIRAFFE GRNs"
   ]
  },
  {
   "cell_type": "code",
   "execution_count": 5,
   "id": "5971a9fd-28e3-43f2-9887-daf24ce7a529",
   "metadata": {},
   "outputs": [],
   "source": [
    "R_case = giraffe.Giraffe(expression_case.to_numpy(), motif.to_numpy(), ppi.to_numpy() + np.eye(644)).get_regulation()"
   ]
  },
  {
   "cell_type": "code",
   "execution_count": 7,
   "id": "038953bf-c218-487d-bb4c-15c0ec61662a",
   "metadata": {},
   "outputs": [],
   "source": [
    "R_control = giraffe.Giraffe(expression_control.to_numpy(), motif.to_numpy(), ppi.to_numpy() + np.eye(644)).get_regulation()"
   ]
  },
  {
   "cell_type": "code",
   "execution_count": 6,
   "id": "066c5bea-0330-445e-9993-d1ebf2f359ff",
   "metadata": {},
   "outputs": [],
   "source": [
    "pd.DataFrame(R_case, index=motif.index, columns=motif.columns).to_csv(\"data/thca/network_case.tsv\", sep=\"\\t\")"
   ]
  },
  {
   "cell_type": "code",
   "execution_count": 8,
   "id": "daa3cb76-d9b2-4299-9c6c-b0ba10536814",
   "metadata": {},
   "outputs": [],
   "source": [
    "pd.DataFrame(R_control, index=motif.index, columns=motif.columns).to_csv(\"data/thca/network_control.tsv\", sep=\"\\t\")"
   ]
  },
  {
   "cell_type": "markdown",
   "id": "5a2fbafd-22bc-4c2f-ba31-a6d13f8d06d3",
   "metadata": {},
   "source": [
    "# PRAD\n",
    "## Loading the data"
   ]
  },
  {
   "cell_type": "code",
   "execution_count": 2,
   "id": "439cfba1-4390-4a1a-9b95-7abe0cd4f981",
   "metadata": {},
   "outputs": [],
   "source": [
    "gene_to_name = lambda gene : gene[0:15]\n",
    "\n",
    "expression_case = pd.read_csv(\"PRAD_case.csv\", index_col = 0)\n",
    "expression_control = pd.read_csv(\"PRAD_nat.csv\", index_col = 0)\n",
    "\n",
    "expression_case.index = map(gene_to_name, expression_case.index)\n",
    "expression_control.index = map(gene_to_name, expression_control.index)\n",
    "expression_case.sort_index(inplace=True)\n",
    "expression_control.sort_index(inplace=True)"
   ]
  },
  {
   "cell_type": "code",
   "execution_count": 3,
   "id": "b017a04a-982f-4f63-b9e7-faec29188faf",
   "metadata": {},
   "outputs": [],
   "source": [
    "motif = pd.read_csv(\"motif.csv\", index_col = 0)\n",
    "ppi = pd.read_csv(\"ppi_matrix.csv\", index_col = 0)\n",
    "\n",
    "motif.sort_index(inplace=True)\n",
    "expression_case = expression_case.loc[expression_case.index.isin(motif.index),:]\n",
    "expression_control = expression_control.loc[expression_control.index.isin(motif.index),:]\n",
    "motif = motif.loc[motif.index.isin(expression_case.index), :]"
   ]
  },
  {
   "cell_type": "markdown",
   "id": "f669a1ca-00c6-4f9a-a896-7962fed17e3f",
   "metadata": {},
   "source": [
    "## Inferring GIRAFFE GRNs"
   ]
  },
  {
   "cell_type": "code",
   "execution_count": 4,
   "id": "1b59e367-b2be-41b0-a99b-8a8951aadbae",
   "metadata": {},
   "outputs": [],
   "source": [
    "R_case = giraffe.Giraffe(expression_case.to_numpy(), motif.to_numpy(), ppi.to_numpy() + np.eye(644)).get_regulation()"
   ]
  },
  {
   "cell_type": "code",
   "execution_count": 5,
   "id": "6b36ff6a-05da-4b4d-835a-546c228ac8cb",
   "metadata": {},
   "outputs": [],
   "source": [
    "pd.DataFrame(R_case, index=motif.index, columns=motif.columns).to_csv(\"data/prad/network_case.tsv\", sep=\"\\t\")"
   ]
  },
  {
   "cell_type": "code",
   "execution_count": 6,
   "id": "9e5f5ffe-5569-43ae-a82a-1cdd7b5d78c9",
   "metadata": {},
   "outputs": [],
   "source": [
    "R_control = giraffe.Giraffe(expression_control.to_numpy(), motif.to_numpy(), ppi.to_numpy() + np.eye(644)).get_regulation()"
   ]
  },
  {
   "cell_type": "code",
   "execution_count": null,
   "id": "b4712a60-1882-4931-997a-c937cf45db56",
   "metadata": {},
   "outputs": [],
   "source": [
    "pd.DataFrame(R_control, index=motif.index, columns=motif.columns).to_csv(\"data/lihc/network_control.tsv\", sep=\"\\t\")"
   ]
  },
  {
   "cell_type": "markdown",
   "id": "84691f11-4928-4cbd-aff0-1a790cbc6e17",
   "metadata": {},
   "source": [
    "# LIHC SEX\n",
    "## Loading the data"
   ]
  },
  {
   "cell_type": "code",
   "execution_count": 4,
   "id": "aaf762a4-f729-4911-bbe2-a2cc5d1b6496",
   "metadata": {},
   "outputs": [],
   "source": [
    "gene_to_name = lambda gene : gene[0:15]\n",
    "\n",
    "expression_male = pd.read_csv(\"LIHC_male.csv\", index_col = 0)\n",
    "expression_female = pd.read_csv(\"LIHC_female.csv\", index_col = 0)\n",
    "\n",
    "expression_male.index = map(gene_to_name, expression_male.index)\n",
    "expression_female.index = map(gene_to_name, expression_female.index)\n",
    "expression_male.sort_index(inplace=True)\n",
    "expression_female.sort_index(inplace=True)"
   ]
  },
  {
   "cell_type": "code",
   "execution_count": 8,
   "id": "afd21f81-6953-425f-9e6e-d21f0e93d2ce",
   "metadata": {},
   "outputs": [],
   "source": [
    "motif = pd.read_csv(\"motif.csv\", index_col = 0)\n",
    "ppi = pd.read_csv(\"ppi_matrix.csv\", index_col = 0)\n",
    "\n",
    "motif.sort_index(inplace=True)\n",
    "expression_male = expression_male.loc[expression_male.index.isin(motif.index),:]\n",
    "expression_female = expression_female.loc[expression_female.index.isin(motif.index),:]\n",
    "motif = motif.loc[motif.index.isin(expression_male.index), :]"
   ]
  },
  {
   "cell_type": "markdown",
   "id": "6f233a54-7aa8-4c66-8436-c4170af2261f",
   "metadata": {},
   "source": [
    "## Inferring GIRAFFE GRNs"
   ]
  },
  {
   "cell_type": "code",
   "execution_count": 15,
   "id": "ea1fc7a9-b5ad-4049-80ce-6ea077fe69d0",
   "metadata": {},
   "outputs": [],
   "source": [
    "R_male = giraffe.Giraffe(expression_male.to_numpy(), motif.to_numpy(), ppi.to_numpy() + np.eye(644)).get_regulation()"
   ]
  },
  {
   "cell_type": "code",
   "execution_count": 16,
   "id": "8d8aeebe-d88a-4886-910a-b8c8a8474b0e",
   "metadata": {},
   "outputs": [],
   "source": [
    "pd.DataFrame(R_male, index=motif.index, columns=motif.columns).to_csv(\"data/lihc_sex/network_malev1.tsv\", sep=\"\\t\")"
   ]
  },
  {
   "cell_type": "code",
   "execution_count": 17,
   "id": "4f6bb903-3af6-4096-8b96-8b08a1b06ea4",
   "metadata": {},
   "outputs": [],
   "source": [
    "R_female = giraffe.Giraffe(expression_female.to_numpy(), motif.to_numpy(), ppi.to_numpy() + np.eye(644)).get_regulation()"
   ]
  },
  {
   "cell_type": "code",
   "execution_count": 18,
   "id": "0c444c9c-8348-4228-b3bc-69ed534ff686",
   "metadata": {},
   "outputs": [],
   "source": [
    "pd.DataFrame(R_female, index=motif.index, columns=motif.columns).to_csv(\"data/lihc_sex/network_femalev1.tsv\", sep=\"\\t\")"
   ]
  },
  {
   "cell_type": "code",
   "execution_count": 31,
   "id": "ba42450c-4874-419c-b92d-75f0eee07fcd",
   "metadata": {},
   "outputs": [],
   "source": [
    "motif_male = pd.read_csv(\"motif_male.txt\", index_col = 0)\n",
    "motif_male.sort_index(inplace=True)\n",
    "expression_male = expression_male.loc[expression_male.index.isin(motif_male.index),:]\n",
    "motif_male = motif_male.loc[motif_male.index.isin(expression_male.index), :]\n",
    "motif_male = motif_male.reindex(sorted(motif_male.columns), axis=1)\n",
    "ppi = ppi.loc[ppi.index.isin(motif_male.columns), ppi.columns.isin(motif_male.columns)]\n",
    "ppi.sort_index(inplace=True)\n",
    "ppi = ppi.reindex(sorted(ppi.columns), axis = 1)"
   ]
  },
  {
   "cell_type": "code",
   "execution_count": 37,
   "id": "2b0f87f3-603b-496c-934f-a589865c48d5",
   "metadata": {},
   "outputs": [],
   "source": [
    "motif_female = pd.read_csv(\"motif_female.txt\", index_col = 0)\n",
    "motif_female.sort_index(inplace=True)\n",
    "expression_female = expression_female.loc[expression_female.index.isin(motif_female.index),:]\n",
    "motif_female = motif_female.loc[motif_female.index.isin(expression_female.index), :]\n",
    "motif_female = motif_female.reindex(sorted(motif_female.columns), axis=1)\n",
    "ppi = ppi.loc[ppi.index.isin(motif_female.columns), ppi.columns.isin(motif_female.columns)]\n",
    "ppi.sort_index(inplace=True)\n",
    "ppi = ppi.reindex(sorted(ppi.columns), axis = 1)"
   ]
  },
  {
   "cell_type": "code",
   "execution_count": 40,
   "id": "48679135-1033-4070-842e-4ffe8be617c5",
   "metadata": {},
   "outputs": [],
   "source": [
    "R_male = giraffe.Giraffe(expression_male.to_numpy(), motif_male.to_numpy(), ppi.to_numpy() + np.eye(640)).get_regulation()"
   ]
  },
  {
   "cell_type": "code",
   "execution_count": 42,
   "id": "fe167b24-73db-4ab1-a1a8-bc31b66cb038",
   "metadata": {},
   "outputs": [],
   "source": [
    "pd.DataFrame(R_male, index=motif_male.index, columns=motif_male.columns).to_csv(\"data/lihc_sex/network_malev2.tsv\", sep=\"\\t\")"
   ]
  },
  {
   "cell_type": "code",
   "execution_count": 43,
   "id": "8fd04156-3173-4079-bbbd-e4da48c02950",
   "metadata": {},
   "outputs": [],
   "source": [
    "R_female = giraffe.Giraffe(expression_female.to_numpy(), motif_female.to_numpy(), ppi.to_numpy() + np.eye(640)).get_regulation()"
   ]
  },
  {
   "cell_type": "code",
   "execution_count": 45,
   "id": "4633998d-daba-4e3e-a156-f44660bc16de",
   "metadata": {},
   "outputs": [],
   "source": [
    "pd.DataFrame(R_female, index=motif_female.index, columns=motif_female.columns).to_csv(\"data/lihc_sex/network_femalev2.tsv\", sep=\"\\t\")"
   ]
  }
 ],
 "metadata": {
  "kernelspec": {
   "display_name": "Python 3 (ipykernel)",
   "language": "python",
   "name": "python3"
  },
  "language_info": {
   "codemirror_mode": {
    "name": "ipython",
    "version": 3
   },
   "file_extension": ".py",
   "mimetype": "text/x-python",
   "name": "python",
   "nbconvert_exporter": "python",
   "pygments_lexer": "ipython3",
   "version": "3.9.6"
  }
 },
 "nbformat": 4,
 "nbformat_minor": 5
}
