{
 "cells": [
  {
   "cell_type": "code",
   "execution_count": 1,
   "id": "84e50b31-ed4c-4324-964d-c0e041e5eb3f",
   "metadata": {},
   "outputs": [],
   "source": [
    "import giraffe\n",
    "import numpy as np\n",
    "import pandas as pd"
   ]
  },
  {
   "cell_type": "code",
   "execution_count": 2,
   "id": "2611ecf5-ebd3-45a0-967f-5601852c047e",
   "metadata": {},
   "outputs": [],
   "source": [
    "ppi = pd.read_csv(\"luad_data_processing/ppi_matrix.csv\", index_col = 0)\n",
    "prior = pd.read_csv(\"luad_data_processing/prior_matrix.csv\", index_col = 0)"
   ]
  },
  {
   "cell_type": "code",
   "execution_count": 3,
   "id": "e402d6a7-f4c7-44f8-a83e-5e0de472071f",
   "metadata": {},
   "outputs": [],
   "source": [
    "expr = pd.read_csv(\"luad_data_processing/raw/expression.csv\", index_col = 0)\n",
    "genes = [gene[0:15] for gene in expr.index]\n",
    "expr.index = genes\n",
    "expr = expr.sort_index()\n",
    "expr_lcss = pd.read_csv(\"luad_data_processing/expr_lcss.csv\", index_col = 0)\n",
    "expr_lcss = expr_lcss[~expr_lcss.index.duplicated(keep='first')].dropna()\n",
    "expr_gse = pd.read_csv(\"luad_data_processing/expression_GEO.csv\", index_col = 0)\n",
    "expr_gse = expr_gse[~expr_gse.index.duplicated(keep='first')].dropna()"
   ]
  },
  {
   "cell_type": "markdown",
   "id": "6691ad5e-26fa-4686-a125-f68c127595ef",
   "metadata": {},
   "source": [
    "## GIRAFFE"
   ]
  },
  {
   "cell_type": "code",
   "execution_count": 6,
   "id": "c95cfebe-4882-4aa6-8138-c3e4fa7c3332",
   "metadata": {},
   "outputs": [],
   "source": [
    "R_tcga = giraffe.Giraffe(expr.to_numpy(), prior.to_numpy(), ppi.to_numpy()).get_regulation()"
   ]
  },
  {
   "cell_type": "code",
   "execution_count": 4,
   "id": "115ae4ef-f4fa-475e-b90f-47c0a8c2fec4",
   "metadata": {},
   "outputs": [],
   "source": [
    "R_lcss = giraffe.Giraffe(\n",
    "    expr_lcss.iloc[expr_lcss.index.isin(expr.index),],\n",
    "    prior.iloc[expr.index.isin(expr_lcss.index),].to_numpy(),\n",
    "    ppi.to_numpy()\n",
    ").get_regulation()"
   ]
  },
  {
   "cell_type": "code",
   "execution_count": 9,
   "id": "03f87f81-860a-4785-ac4a-c80aaca2923e",
   "metadata": {},
   "outputs": [],
   "source": [
    "R_gse = giraffe.Giraffe(\n",
    "    expr_gse.iloc[expr_gse.index.isin(expr.index),],\n",
    "    prior.iloc[expr.index.isin(expr_gse.index),].to_numpy(),\n",
    "    ppi.to_numpy()\n",
    ").get_regulation()"
   ]
  },
  {
   "cell_type": "code",
   "execution_count": 13,
   "id": "2e0c7ac5-0822-4482-a941-d9851dba4b7f",
   "metadata": {},
   "outputs": [],
   "source": [
    "R_tcga = pd.DataFrame(R_tcga, index = expr.index)\n",
    "R_lccs = pd.DataFrame(R_lcss, index = expr_lcss.iloc[expr_lcss.index.isin(expr.index),].index)\n",
    "R_gse = pd.DataFrame(R_gse, index = expr_gse.iloc[expr_gse.index.isin(expr.index),].index)"
   ]
  },
  {
   "cell_type": "code",
   "execution_count": 17,
   "id": "6025a357-1dbb-43fd-8900-43c845fe05d8",
   "metadata": {},
   "outputs": [],
   "source": [
    "first = np.corrcoef(\n",
    "    R_tcga.iloc[R_tcga.index.isin(R_lccs.index),].to_numpy().flatten(),\n",
    "    R_lccs.iloc[R_lccs.index.isin(R_tcga.index),].to_numpy().flatten()\n",
    ")[0, 1]\n",
    "second = np.corrcoef(\n",
    "    R_tcga.iloc[R_tcga.index.isin(R_gse.index),].to_numpy().flatten(),\n",
    "    R_gse.iloc[R_gse.index.isin(R_tcga.index),].to_numpy().flatten()\n",
    ")[0, 1]\n",
    "third = np.corrcoef(\n",
    "    R_gse.iloc[R_gse.index.isin(R_lccs.index),].to_numpy().flatten(),\n",
    "    R_lccs.iloc[R_lccs.index.isin(R_gse.index),].to_numpy().flatten()\n",
    ")[0, 1]\n",
    "res_giraffe = [first, second, third]"
   ]
  },
  {
   "cell_type": "code",
   "execution_count": 18,
   "id": "1573e338-c8cd-44b1-9496-70f1c9a18a9b",
   "metadata": {},
   "outputs": [
    {
     "data": {
      "text/plain": [
       "[0.9591557577118879, 0.8673521433627063, 0.9084230763358899]"
      ]
     },
     "execution_count": 18,
     "metadata": {},
     "output_type": "execute_result"
    }
   ],
   "source": [
    "res_giraffe"
   ]
  },
  {
   "cell_type": "markdown",
   "id": "9fe382eb-0bfc-44a7-ad6f-cbfe802e3ee3",
   "metadata": {},
   "source": [
    "## OTTER"
   ]
  },
  {
   "cell_type": "code",
   "execution_count": 4,
   "id": "5c50d0be-8f51-406d-be81-d40aeda2a65f",
   "metadata": {},
   "outputs": [],
   "source": [
    "from netZooPy.otter.otter import otter"
   ]
  },
  {
   "cell_type": "code",
   "execution_count": 17,
   "id": "a3766ce9-c137-4b94-8e57-b430ebac23ea",
   "metadata": {},
   "outputs": [],
   "source": [
    "R_tcga = otter(prior.to_numpy().T, ppi.to_numpy(), np.corrcoef(expr.to_numpy()), Iter=200).T"
   ]
  },
  {
   "cell_type": "code",
   "execution_count": 18,
   "id": "20a8fd72-8b84-4f88-96b9-512588e5824a",
   "metadata": {},
   "outputs": [],
   "source": [
    "R_lcss = otter(\n",
    "    prior.iloc[expr.index.isin(expr_lcss.index),].to_numpy().T,\n",
    "    ppi.to_numpy(),\n",
    "    np.corrcoef(expr_lcss.iloc[expr_lcss.index.isin(expr.index),].to_numpy()), \n",
    "    Iter=200\n",
    ").T"
   ]
  },
  {
   "cell_type": "code",
   "execution_count": 19,
   "id": "ffa4f099-22fd-47db-922c-9eab1c2f0c20",
   "metadata": {},
   "outputs": [],
   "source": [
    "R_gse = otter(\n",
    "    prior.iloc[expr.index.isin(expr_gse.index),].to_numpy().T,\n",
    "    ppi.to_numpy(),\n",
    "    np.corrcoef(expr_gse.iloc[expr_gse.index.isin(expr.index),].to_numpy()),\n",
    "    Iter=200\n",
    ").T"
   ]
  },
  {
   "cell_type": "code",
   "execution_count": 20,
   "id": "5ba70b83-b30c-427a-8b7f-e4246439faba",
   "metadata": {},
   "outputs": [],
   "source": [
    "R_tcga = pd.DataFrame(R_tcga, index = expr.index)\n",
    "R_lccs = pd.DataFrame(R_lcss, index = expr_lcss.iloc[expr_lcss.index.isin(expr.index),].index)\n",
    "R_gse = pd.DataFrame(R_gse, index = expr_gse.iloc[expr_gse.index.isin(expr.index),].index)"
   ]
  },
  {
   "cell_type": "code",
   "execution_count": 21,
   "id": "3d00851b-7a5f-497f-a151-2f5dead51ef1",
   "metadata": {},
   "outputs": [],
   "source": [
    "first = np.corrcoef(\n",
    "    R_tcga.iloc[R_tcga.index.isin(R_lccs.index),].to_numpy().flatten(),\n",
    "    R_lccs.iloc[R_lccs.index.isin(R_tcga.index),].to_numpy().flatten()\n",
    ")[0, 1]\n",
    "second = np.corrcoef(\n",
    "    R_tcga.iloc[R_tcga.index.isin(R_gse.index),].to_numpy().flatten(),\n",
    "    R_gse.iloc[R_gse.index.isin(R_tcga.index),].to_numpy().flatten()\n",
    ")[0, 1]\n",
    "third = np.corrcoef(\n",
    "    R_gse.iloc[R_gse.index.isin(R_lccs.index),].to_numpy().flatten(),\n",
    "    R_lccs.iloc[R_lccs.index.isin(R_gse.index),].to_numpy().flatten()\n",
    ")[0, 1]\n",
    "res_otter = [first, second, third]"
   ]
  },
  {
   "cell_type": "code",
   "execution_count": 22,
   "id": "c906439b-b53e-4179-906f-5a05bca42289",
   "metadata": {},
   "outputs": [
    {
     "data": {
      "text/plain": [
       "[0.986878596479477, 0.9863352531378926, 0.99957752059451]"
      ]
     },
     "execution_count": 22,
     "metadata": {},
     "output_type": "execute_result"
    }
   ],
   "source": [
    "res_otter"
   ]
  },
  {
   "cell_type": "markdown",
   "id": "02248e5e-c3b9-4cd8-b25c-b97bbc471aef",
   "metadata": {},
   "source": [
    "## Pearson correlation"
   ]
  },
  {
   "cell_type": "code",
   "execution_count": 21,
   "id": "1fb41796-d074-4b8f-92d3-177170c2d2ac",
   "metadata": {},
   "outputs": [],
   "source": [
    "import notebooks"
   ]
  },
  {
   "cell_type": "code",
   "execution_count": 23,
   "id": "b387157c-c276-4f11-acb2-6c825e847036",
   "metadata": {},
   "outputs": [
    {
     "ename": "KeyboardInterrupt",
     "evalue": "",
     "output_type": "error",
     "traceback": [
      "\u001b[0;31m---------------------------------------------------------------------------\u001b[0m",
      "\u001b[0;31mKeyboardInterrupt\u001b[0m                         Traceback (most recent call last)",
      "Cell \u001b[0;32mIn[23], line 1\u001b[0m\n\u001b[0;32m----> 1\u001b[0m R_panda \u001b[38;5;241m=\u001b[39m \u001b[43mnotebooks\u001b[49m\u001b[38;5;241;43m.\u001b[39;49m\u001b[43mcompute_panda_locally\u001b[49m\u001b[43m(\u001b[49m\u001b[43mexpr\u001b[49m\u001b[38;5;241;43m.\u001b[39;49m\u001b[43mto_numpy\u001b[49m\u001b[43m(\u001b[49m\u001b[43m)\u001b[49m\u001b[43m,\u001b[49m\u001b[43m \u001b[49m\u001b[43mprior\u001b[49m\u001b[38;5;241;43m.\u001b[39;49m\u001b[43mto_numpy\u001b[49m\u001b[43m(\u001b[49m\u001b[43m)\u001b[49m\u001b[43m,\u001b[49m\u001b[43m \u001b[49m\u001b[43mppi\u001b[49m\u001b[38;5;241;43m.\u001b[39;49m\u001b[43mto_numpy\u001b[49m\u001b[43m(\u001b[49m\u001b[43m)\u001b[49m\u001b[43m)\u001b[49m\n",
      "File \u001b[0;32m~/Desktop/giraffe/notebooks/utils.py:26\u001b[0m, in \u001b[0;36mcompute_panda_locally\u001b[0;34m(expression, motif, ppi, path)\u001b[0m\n\u001b[1;32m     13\u001b[0m \u001b[38;5;28;01mdef\u001b[39;00m \u001b[38;5;21mcompute_panda_locally\u001b[39m(expression, motif, ppi, path\u001b[38;5;241m=\u001b[39m\u001b[38;5;124m\"\u001b[39m\u001b[38;5;124mtmp\u001b[39m\u001b[38;5;124m\"\u001b[39m):\n\u001b[1;32m     14\u001b[0m \u001b[38;5;250m    \u001b[39m\u001b[38;5;124;03m\"\"\"\u001b[39;00m\n\u001b[1;32m     15\u001b[0m \u001b[38;5;124;03m    Computes PANDA using the code from netZooPy. Note that for large datasets, this be slow or run out of memory.\u001b[39;00m\n\u001b[1;32m     16\u001b[0m \u001b[38;5;124;03m    If necessary, consider moving to a cluster and using the command line interface, see\u001b[39;00m\n\u001b[0;32m   (...)\u001b[0m\n\u001b[1;32m     22\u001b[0m \u001b[38;5;124;03m    :return:regulation matrix computed by panda. Numpy matrix of dimension g x tf.\u001b[39;00m\n\u001b[1;32m     23\u001b[0m \u001b[38;5;124;03m    \"\"\"\u001b[39;00m\n\u001b[1;32m     24\u001b[0m     panda_obj \u001b[38;5;241m=\u001b[39m Panda(\n\u001b[1;32m     25\u001b[0m         pd\u001b[38;5;241m.\u001b[39mDataFrame(expression),\n\u001b[0;32m---> 26\u001b[0m         \u001b[43mtransform_motif_for_panda\u001b[49m\u001b[43m(\u001b[49m\u001b[43mmotif\u001b[49m\u001b[43m,\u001b[49m\u001b[43m \u001b[49m\u001b[43mpath\u001b[49m\u001b[43m \u001b[49m\u001b[38;5;241;43m+\u001b[39;49m\u001b[43m \u001b[49m\u001b[38;5;124;43m\"\u001b[39;49m\u001b[38;5;124;43m/motif.txt\u001b[39;49m\u001b[38;5;124;43m\"\u001b[39;49m\u001b[43m)\u001b[49m,\n\u001b[1;32m     27\u001b[0m         transform_ppi_for_panda(ppi, path \u001b[38;5;241m+\u001b[39m \u001b[38;5;124m\"\u001b[39m\u001b[38;5;124m/ppi.txt\u001b[39m\u001b[38;5;124m\"\u001b[39m),\n\u001b[1;32m     28\u001b[0m         save_tmp\u001b[38;5;241m=\u001b[39m\u001b[38;5;28;01mFalse\u001b[39;00m,\n\u001b[1;32m     29\u001b[0m         save_memory\u001b[38;5;241m=\u001b[39m\u001b[38;5;28;01mFalse\u001b[39;00m,\n\u001b[1;32m     30\u001b[0m         remove_missing\u001b[38;5;241m=\u001b[39m\u001b[38;5;28;01mFalse\u001b[39;00m,\n\u001b[1;32m     31\u001b[0m         keep_expression_matrix\u001b[38;5;241m=\u001b[39m\u001b[38;5;28;01mFalse\u001b[39;00m\n\u001b[1;32m     32\u001b[0m     )\n\u001b[1;32m     33\u001b[0m     panda_obj\u001b[38;5;241m.\u001b[39msave_panda_results(path \u001b[38;5;241m+\u001b[39m \u001b[38;5;124m\"\u001b[39m\u001b[38;5;124m/panda_res.txt\u001b[39m\u001b[38;5;124m\"\u001b[39m)\n\u001b[1;32m     34\u001b[0m     \u001b[38;5;28;01mreturn\u001b[39;00m transform_panda_output(path \u001b[38;5;241m+\u001b[39m \u001b[38;5;124m\"\u001b[39m\u001b[38;5;124m/panda_res.txt\u001b[39m\u001b[38;5;124m\"\u001b[39m, ppi\u001b[38;5;241m.\u001b[39mshape[\u001b[38;5;241m0\u001b[39m], expression\u001b[38;5;241m.\u001b[39mshape[\u001b[38;5;241m0\u001b[39m])\n",
      "File \u001b[0;32m~/Desktop/giraffe/notebooks/utils.py:136\u001b[0m, in \u001b[0;36mtransform_motif_for_panda\u001b[0;34m(motif, path)\u001b[0m\n\u001b[1;32m    134\u001b[0m \u001b[38;5;28;01mif\u001b[39;00m motif[i, j] \u001b[38;5;241m==\u001b[39m \u001b[38;5;241m1\u001b[39m:\n\u001b[1;32m    135\u001b[0m     W[\u001b[38;5;124m\"\u001b[39m\u001b[38;5;124msource\u001b[39m\u001b[38;5;124m\"\u001b[39m][idx] \u001b[38;5;241m=\u001b[39m i\n\u001b[0;32m--> 136\u001b[0m     \u001b[43mW\u001b[49m\u001b[43m[\u001b[49m\u001b[38;5;124;43m\"\u001b[39;49m\u001b[38;5;124;43mtarget\u001b[39;49m\u001b[38;5;124;43m\"\u001b[39;49m\u001b[43m]\u001b[49m\u001b[43m[\u001b[49m\u001b[43midx\u001b[49m\u001b[43m]\u001b[49m \u001b[38;5;241m=\u001b[39m j\n\u001b[1;32m    137\u001b[0m     W[\u001b[38;5;124m\"\u001b[39m\u001b[38;5;124mweight\u001b[39m\u001b[38;5;124m\"\u001b[39m][idx] \u001b[38;5;241m=\u001b[39m \u001b[38;5;241m1\u001b[39m\n\u001b[1;32m    138\u001b[0m     idx \u001b[38;5;241m+\u001b[39m\u001b[38;5;241m=\u001b[39m \u001b[38;5;241m1\u001b[39m\n",
      "File \u001b[0;32m~/Library/Python/3.9/lib/python/site-packages/pandas/core/series.py:1268\u001b[0m, in \u001b[0;36mSeries.__setitem__\u001b[0;34m(self, key, value)\u001b[0m\n\u001b[1;32m   1265\u001b[0m         \u001b[38;5;28mself\u001b[39m\u001b[38;5;241m.\u001b[39m_set_with(key, value)\n\u001b[1;32m   1267\u001b[0m \u001b[38;5;28;01mif\u001b[39;00m cacher_needs_updating:\n\u001b[0;32m-> 1268\u001b[0m     \u001b[38;5;28;43mself\u001b[39;49m\u001b[38;5;241;43m.\u001b[39;49m\u001b[43m_maybe_update_cacher\u001b[49m\u001b[43m(\u001b[49m\u001b[43minplace\u001b[49m\u001b[38;5;241;43m=\u001b[39;49m\u001b[38;5;28;43;01mTrue\u001b[39;49;00m\u001b[43m)\u001b[49m\n",
      "File \u001b[0;32m~/Library/Python/3.9/lib/python/site-packages/pandas/core/series.py:1418\u001b[0m, in \u001b[0;36mSeries._maybe_update_cacher\u001b[0;34m(self, clear, verify_is_copy, inplace)\u001b[0m\n\u001b[1;32m   1413\u001b[0m     \u001b[38;5;28;01mdel\u001b[39;00m \u001b[38;5;28mself\u001b[39m\u001b[38;5;241m.\u001b[39m_cacher\n\u001b[1;32m   1414\u001b[0m \u001b[38;5;28;01melif\u001b[39;00m \u001b[38;5;28mlen\u001b[39m(\u001b[38;5;28mself\u001b[39m) \u001b[38;5;241m==\u001b[39m \u001b[38;5;28mlen\u001b[39m(ref) \u001b[38;5;129;01mand\u001b[39;00m \u001b[38;5;28mself\u001b[39m\u001b[38;5;241m.\u001b[39mname \u001b[38;5;129;01min\u001b[39;00m ref\u001b[38;5;241m.\u001b[39mcolumns:\n\u001b[1;32m   1415\u001b[0m     \u001b[38;5;66;03m# GH#42530 self.name must be in ref.columns\u001b[39;00m\n\u001b[1;32m   1416\u001b[0m     \u001b[38;5;66;03m# to ensure column still in dataframe\u001b[39;00m\n\u001b[1;32m   1417\u001b[0m     \u001b[38;5;66;03m# otherwise, either self or ref has swapped in new arrays\u001b[39;00m\n\u001b[0;32m-> 1418\u001b[0m     \u001b[43mref\u001b[49m\u001b[38;5;241;43m.\u001b[39;49m\u001b[43m_maybe_cache_changed\u001b[49m\u001b[43m(\u001b[49m\u001b[43mcacher\u001b[49m\u001b[43m[\u001b[49m\u001b[38;5;241;43m0\u001b[39;49m\u001b[43m]\u001b[49m\u001b[43m,\u001b[49m\u001b[43m \u001b[49m\u001b[38;5;28;43mself\u001b[39;49m\u001b[43m,\u001b[49m\u001b[43m \u001b[49m\u001b[43minplace\u001b[49m\u001b[38;5;241;43m=\u001b[39;49m\u001b[43minplace\u001b[49m\u001b[43m)\u001b[49m\n\u001b[1;32m   1419\u001b[0m \u001b[38;5;28;01melse\u001b[39;00m:\n\u001b[1;32m   1420\u001b[0m     \u001b[38;5;66;03m# GH#33675 we have swapped in a new array, so parent\u001b[39;00m\n\u001b[1;32m   1421\u001b[0m     \u001b[38;5;66;03m#  reference to self is now invalid\u001b[39;00m\n\u001b[1;32m   1422\u001b[0m     ref\u001b[38;5;241m.\u001b[39m_item_cache\u001b[38;5;241m.\u001b[39mpop(cacher[\u001b[38;5;241m0\u001b[39m], \u001b[38;5;28;01mNone\u001b[39;00m)\n",
      "File \u001b[0;32m~/Library/Python/3.9/lib/python/site-packages/pandas/core/frame.py:4442\u001b[0m, in \u001b[0;36mDataFrame._maybe_cache_changed\u001b[0;34m(self, item, value, inplace)\u001b[0m\n\u001b[1;32m   4438\u001b[0m \u001b[38;5;28;01mif\u001b[39;00m old\u001b[38;5;241m.\u001b[39m_values \u001b[38;5;129;01mis\u001b[39;00m value\u001b[38;5;241m.\u001b[39m_values \u001b[38;5;129;01mand\u001b[39;00m inplace:\n\u001b[1;32m   4439\u001b[0m     \u001b[38;5;66;03m# GH#46149 avoid making unnecessary copies/block-splitting\u001b[39;00m\n\u001b[1;32m   4440\u001b[0m     \u001b[38;5;28;01mreturn\u001b[39;00m\n\u001b[0;32m-> 4442\u001b[0m \u001b[38;5;28;43mself\u001b[39;49m\u001b[38;5;241;43m.\u001b[39;49m\u001b[43m_mgr\u001b[49m\u001b[38;5;241;43m.\u001b[39;49m\u001b[43miset\u001b[49m\u001b[43m(\u001b[49m\u001b[43mloc\u001b[49m\u001b[43m,\u001b[49m\u001b[43m \u001b[49m\u001b[43marraylike\u001b[49m\u001b[43m,\u001b[49m\u001b[43m \u001b[49m\u001b[43minplace\u001b[49m\u001b[38;5;241;43m=\u001b[39;49m\u001b[43minplace\u001b[49m\u001b[43m)\u001b[49m\n",
      "File \u001b[0;32m~/Library/Python/3.9/lib/python/site-packages/pandas/core/internals/managers.py:1127\u001b[0m, in \u001b[0;36mBlockManager.iset\u001b[0;34m(self, loc, value, inplace, refs)\u001b[0m\n\u001b[1;32m   1123\u001b[0m         \u001b[38;5;28mself\u001b[39m\u001b[38;5;241m.\u001b[39m_iset_split_block(\n\u001b[1;32m   1124\u001b[0m             blkno_l, blk_locs, value_getitem(val_locs), refs\u001b[38;5;241m=\u001b[39mrefs\n\u001b[1;32m   1125\u001b[0m         )\n\u001b[1;32m   1126\u001b[0m     \u001b[38;5;28;01melse\u001b[39;00m:\n\u001b[0;32m-> 1127\u001b[0m         \u001b[43mblk\u001b[49m\u001b[38;5;241;43m.\u001b[39;49m\u001b[43mset_inplace\u001b[49m\u001b[43m(\u001b[49m\u001b[43mblk_locs\u001b[49m\u001b[43m,\u001b[49m\u001b[43m \u001b[49m\u001b[43mvalue_getitem\u001b[49m\u001b[43m(\u001b[49m\u001b[43mval_locs\u001b[49m\u001b[43m)\u001b[49m\u001b[43m)\u001b[49m\n\u001b[1;32m   1128\u001b[0m         \u001b[38;5;28;01mcontinue\u001b[39;00m\n\u001b[1;32m   1129\u001b[0m \u001b[38;5;28;01melse\u001b[39;00m:\n",
      "File \u001b[0;32m~/Library/Python/3.9/lib/python/site-packages/pandas/core/internals/blocks.py:1039\u001b[0m, in \u001b[0;36mBlock.set_inplace\u001b[0;34m(self, locs, values, copy)\u001b[0m\n\u001b[1;32m   1037\u001b[0m \u001b[38;5;28;01mif\u001b[39;00m copy:\n\u001b[1;32m   1038\u001b[0m     \u001b[38;5;28mself\u001b[39m\u001b[38;5;241m.\u001b[39mvalues \u001b[38;5;241m=\u001b[39m \u001b[38;5;28mself\u001b[39m\u001b[38;5;241m.\u001b[39mvalues\u001b[38;5;241m.\u001b[39mcopy()\n\u001b[0;32m-> 1039\u001b[0m \u001b[38;5;28;43mself\u001b[39;49m\u001b[38;5;241;43m.\u001b[39;49m\u001b[43mvalues\u001b[49m\u001b[43m[\u001b[49m\u001b[43mlocs\u001b[49m\u001b[43m]\u001b[49m \u001b[38;5;241m=\u001b[39m values\n",
      "\u001b[0;31mKeyboardInterrupt\u001b[0m: "
     ]
    }
   ],
   "source": [
    "R_panda = notebooks.compute_panda_locally(expr.to_numpy(), prior.to_numpy(), ppi.to_numpy())"
   ]
  }
 ],
 "metadata": {
  "kernelspec": {
   "display_name": "Python 3 (ipykernel)",
   "language": "python",
   "name": "python3"
  },
  "language_info": {
   "codemirror_mode": {
    "name": "ipython",
    "version": 3
   },
   "file_extension": ".py",
   "mimetype": "text/x-python",
   "name": "python",
   "nbconvert_exporter": "python",
   "pygments_lexer": "ipython3",
   "version": "3.9.6"
  }
 },
 "nbformat": 4,
 "nbformat_minor": 5
}
