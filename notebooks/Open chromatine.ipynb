{
 "cells": [
  {
   "cell_type": "code",
   "execution_count": 12,
   "id": "07c4c0b9",
   "metadata": {},
   "outputs": [],
   "source": [
    "import giraffe\n",
    "import pandas as pd\n",
    "import numpy as np\n",
    "import requests \n",
    "from scipy.io import mmread"
   ]
  },
  {
   "cell_type": "code",
   "execution_count": null,
   "id": "24b948c9",
   "metadata": {},
   "outputs": [],
   "source": [
    "https://www.ncbi.nlm.nih.gov/geo/query/acc.cgi?acc=GSE130399"
   ]
  },
  {
   "cell_type": "code",
   "execution_count": 3,
   "id": "cde3e033",
   "metadata": {},
   "outputs": [],
   "source": [
    "rna = mmread('data/adult_cerebrail_cortex/raw/Adult_CTX_RNA/matrix.mtx')\n",
    "rna_matrix = rna.todense()\n",
    "genes = pd.read_csv('data/adult_cerebrail_cortex/raw/Adult_CTX_RNA/genes.tsv', header = None, sep = '\\t')\n",
    "cells = pd.read_csv('data/adult_cerebrail_cortex/raw/Adult_CTX_RNA/barcodes.tsv', header = None)"
   ]
  },
  {
   "cell_type": "code",
   "execution_count": 4,
   "id": "7a369c06",
   "metadata": {},
   "outputs": [],
   "source": [
    "chromatine = mmread('data/adult_cerebrail_cortex/raw/Adult_CTX_DNA/matrix.mtx')\n",
    "rows = pd.read_csv('data/adult_cerebrail_cortex/raw/Adult_CTX_DNA/genes.tsv', header = None, sep = '\\t')\n",
    "cols = pd.read_csv('data/adult_cerebrail_cortex/raw/Adult_CTX_DNA/barcodes.tsv', header = None)"
   ]
  },
  {
   "cell_type": "code",
   "execution_count": 5,
   "id": "9ed2d391",
   "metadata": {},
   "outputs": [],
   "source": [
    "gene_locations = pd.read_csv(\"data/adult_cerebrail_cortex/gene_locations.csv\", index_col = 0)"
   ]
  },
  {
   "cell_type": "code",
   "execution_count": 14,
   "id": "6c68af0e",
   "metadata": {},
   "outputs": [
    {
     "data": {
      "text/plain": [
       "12.0"
      ]
     },
     "execution_count": 14,
     "metadata": {},
     "output_type": "execute_result"
    }
   ],
   "source": [
    "np.sum(chromatine.getrow(53).toarray()[0])"
   ]
  },
  {
   "cell_type": "code",
   "execution_count": 7,
   "id": "575c9771",
   "metadata": {},
   "outputs": [
    {
     "name": "stdout",
     "output_type": "stream",
     "text": [
      "(29624, 15191)\n",
      "29624\n",
      "15191\n",
      "(29624, 4)\n",
      "(2614863, 15191)\n"
     ]
    }
   ],
   "source": [
    "print(rna_matrix.shape)\n",
    "print(len(genes))\n",
    "print(len(cells))\n",
    "print(gene_locations.shape)\n",
    "print(chromatine.shape)"
   ]
  }
 ],
 "metadata": {
  "kernelspec": {
   "display_name": "Python 3 (ipykernel)",
   "language": "python",
   "name": "python3"
  },
  "language_info": {
   "codemirror_mode": {
    "name": "ipython",
    "version": 3
   },
   "file_extension": ".py",
   "mimetype": "text/x-python",
   "name": "python",
   "nbconvert_exporter": "python",
   "pygments_lexer": "ipython3",
   "version": "3.10.6"
  }
 },
 "nbformat": 4,
 "nbformat_minor": 5
}
