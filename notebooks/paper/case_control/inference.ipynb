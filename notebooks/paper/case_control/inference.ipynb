{
 "cells": [
  {
   "cell_type": "code",
   "execution_count": 2,
   "id": "5422d1f6-1899-44a5-a249-bc4874d48a9d",
   "metadata": {},
   "outputs": [],
   "source": [
    "import giraffe\n",
    "import numpy as np\n",
    "import pandas as pd"
   ]
  },
  {
   "cell_type": "markdown",
   "id": "ddde7955-06c0-4caf-91ff-82e90a183f2e",
   "metadata": {},
   "source": [
    "# BRCA\n",
    "## Loading the data"
   ]
  },
  {
   "cell_type": "code",
   "execution_count": 14,
   "id": "9bd2cd09-397a-4deb-b489-133667badfea",
   "metadata": {},
   "outputs": [],
   "source": [
    "gene_to_name = lambda gene : gene[0:15]\n",
    "\n",
    "expression_case = pd.read_csv(\"BRCA_case.csv\", index_col = 0)\n",
    "expression_control = pd.read_csv(\"BRCA_nat.csv\", index_col = 0)\n",
    "\n",
    "expression_case.index = map(gene_to_name, expression_case.index)\n",
    "expression_control.index = map(gene_to_name, expression_control.index)\n",
    "expression_case.sort_index(inplace=True)\n",
    "expression_control.sort_index(inplace=True)"
   ]
  },
  {
   "cell_type": "code",
   "execution_count": 18,
   "id": "ff196130-57d7-4884-94f5-778cd7780015",
   "metadata": {},
   "outputs": [],
   "source": [
    "motif = pd.read_csv(\"cancer_breast_otter_motif.csv\", index_col = 0)\n",
    "motif.sort_index(inplace=True)\n",
    "\n",
    "expression_case = expression_case.loc[expression_case.index.isin(motif.index),:]\n",
    "expression_control = expression_control.loc[expression_control.index.isin(motif.index),:]\n",
    "motif = motif.loc[motif.index.isin(expression_case.index), :]\n",
    "\n",
    "ppi = pd.read_csv(\"cancer_breast_otter_ppi.csv\", index_col = 0)"
   ]
  },
  {
   "cell_type": "markdown",
   "id": "66bfd1a4-a418-4d4b-a338-b9916fbf5864",
   "metadata": {},
   "source": [
    "## Inferring GIRAFFE GRNs"
   ]
  },
  {
   "cell_type": "code",
   "execution_count": 26,
   "id": "2c5d1c98-a81c-4815-ab17-f96a6b4c59f3",
   "metadata": {},
   "outputs": [],
   "source": [
    "R_case = giraffe.Giraffe(expression_case.to_numpy(), motif.to_numpy(), ppi.to_numpy()).get_regulation()"
   ]
  },
  {
   "cell_type": "code",
   "execution_count": 29,
   "id": "10078f15-22cf-4dfb-a63f-44e15049ac54",
   "metadata": {},
   "outputs": [],
   "source": [
    "R_control = giraffe.Giraffe(expression_control.to_numpy(), motif.to_numpy(), ppi.to_numpy()).get_regulation()"
   ]
  },
  {
   "cell_type": "code",
   "execution_count": 38,
   "id": "f8b71ccd-27c4-4a70-a1ce-79a018ac5194",
   "metadata": {},
   "outputs": [],
   "source": [
    "pd.DataFrame(R_case, index=motif.index, columns=motif.columns).to_csv(\"data/brca/network_case.tsv\", sep=\"\\t\")"
   ]
  },
  {
   "cell_type": "code",
   "execution_count": 39,
   "id": "377fbf47-e60b-48cf-bdf1-87397a53bbd4",
   "metadata": {},
   "outputs": [],
   "source": [
    "pd.DataFrame(R_control, index=motif.index, columns=motif.columns).to_csv(\"data/brca/network_control.tsv\", sep=\"\\t\")"
   ]
  },
  {
   "cell_type": "markdown",
   "id": "3f5da3b4-6320-4724-b750-b025a8a2c3d4",
   "metadata": {},
   "source": [
    "# LIHC\n",
    "## Loading the data"
   ]
  },
  {
   "cell_type": "code",
   "execution_count": 3,
   "id": "df70205f-53cf-4f48-8fb9-0daa8d23ac23",
   "metadata": {},
   "outputs": [],
   "source": [
    "gene_to_name = lambda gene : gene[0:15]\n",
    "\n",
    "expression_case = pd.read_csv(\"LIHC_case.csv\", index_col = 0)\n",
    "expression_control = pd.read_csv(\"LIHC_nat.csv\", index_col = 0)\n",
    "\n",
    "expression_case.index = map(gene_to_name, expression_case.index)\n",
    "expression_control.index = map(gene_to_name, expression_control.index)\n",
    "expression_case.sort_index(inplace=True)\n",
    "expression_control.sort_index(inplace=True)"
   ]
  },
  {
   "cell_type": "code",
   "execution_count": 5,
   "id": "4e5eb9e3-38fb-4d9b-8162-f4dac373df54",
   "metadata": {},
   "outputs": [],
   "source": [
    "motif = pd.read_csv(\"cancer_liver_otter_motif.csv\", index_col = 0)\n",
    "motif.sort_index(inplace=True)\n",
    "\n",
    "expression_case = expression_case.loc[expression_case.index.isin(motif.index),:]\n",
    "expression_control = expression_control.loc[expression_control.index.isin(motif.index),:]\n",
    "motif = motif.loc[motif.index.isin(expression_case.index), :]\n",
    "\n",
    "ppi = pd.read_csv(\"cancer_liver_otter_ppi.csv\", index_col = 0)"
   ]
  },
  {
   "cell_type": "markdown",
   "id": "bbac77df-93ea-49fc-8552-0b27fa40fbf9",
   "metadata": {},
   "source": [
    "## Inferring GIRAFFE GRNs"
   ]
  },
  {
   "cell_type": "code",
   "execution_count": 6,
   "id": "fb381470-0a2e-43b6-843e-e737a8c74754",
   "metadata": {},
   "outputs": [],
   "source": [
    "R_case = giraffe.Giraffe(expression_case.to_numpy(), motif.to_numpy(), ppi.to_numpy()).get_regulation()"
   ]
  },
  {
   "cell_type": "code",
   "execution_count": 8,
   "id": "d22b2ef1-a218-4c7d-be22-024553a3abed",
   "metadata": {},
   "outputs": [],
   "source": [
    "R_control = giraffe.Giraffe(expression_control.to_numpy(), motif.to_numpy(), ppi.to_numpy()).get_regulation()"
   ]
  },
  {
   "cell_type": "code",
   "execution_count": 7,
   "id": "81d88f6d-07c0-4ec3-8e06-79cacc81e360",
   "metadata": {},
   "outputs": [],
   "source": [
    "pd.DataFrame(R_case, index=motif.index, columns=motif.columns).to_csv(\"data/lihc/network_case.tsv\", sep=\"\\t\")"
   ]
  }
 ],
 "metadata": {
  "kernelspec": {
   "display_name": "Python 3 (ipykernel)",
   "language": "python",
   "name": "python3"
  },
  "language_info": {
   "codemirror_mode": {
    "name": "ipython",
    "version": 3
   },
   "file_extension": ".py",
   "mimetype": "text/x-python",
   "name": "python",
   "nbconvert_exporter": "python",
   "pygments_lexer": "ipython3",
   "version": "3.9.6"
  }
 },
 "nbformat": 4,
 "nbformat_minor": 5
}
