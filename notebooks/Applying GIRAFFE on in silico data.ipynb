{
 "cells": [
  {
   "cell_type": "markdown",
   "id": "02b6d1e7",
   "metadata": {},
   "source": [
    "# Applying GIRAFFE on in silico data"
   ]
  },
  {
   "cell_type": "markdown",
   "id": "e1936bb4",
   "metadata": {},
   "source": [
    "In this notebook, we aim to investigate the performance of GIRAFFE on TODO artificial datasets. These datasets are designed to be representative of the underlying biology, and show that GIRAFFE performs well under those assumptions. We will use PANDA, OTTER, and the motif as comparisons. "
   ]
  },
  {
   "cell_type": "markdown",
   "id": "ede0632a",
   "metadata": {},
   "source": [
    "## 1. Load required packages"
   ]
  },
  {
   "cell_type": "markdown",
   "id": "35cc04a6",
   "metadata": {},
   "source": [
    "We load GIRAFFE and other required packages. PANDA and OTTER are available on netZooPy. Feel free to check [here](https://netzoopy.readthedocs.io/en/latest/install/index.html) for more information about installing netZooPy. "
   ]
  },
  {
   "cell_type": "code",
   "execution_count": 1,
   "id": "bbdf8aa4",
   "metadata": {},
   "outputs": [],
   "source": [
    "import giraffe\n",
    "from netZooPy.otter.otter import otter\n",
    "from netZooPy.panda.panda import Panda \n",
    "import pandas as pd\n",
    "import numpy as np\n",
    "import scipy\n",
    "from scipy import stats\n",
    "from numpy.random import default_rng\n",
    "import matplotlib.pyplot as plt\n",
    "import random"
   ]
  },
  {
   "cell_type": "markdown",
   "id": "f485a745",
   "metadata": {},
   "source": [
    "## 3. Recovering ground-truth from projections"
   ]
  },
  {
   "cell_type": "markdown",
   "id": "3f7b58ef",
   "metadata": {},
   "source": [
    "Again, we work with a small toy dataset. The dimensionality are picked to be coherent with the typical biological scenario. "
   ]
  },
  {
   "cell_type": "code",
   "execution_count": 2,
   "id": "be543286",
   "metadata": {},
   "outputs": [],
   "source": [
    "TF = 100\n",
    "G = 500\n",
    "n = 50"
   ]
  },
  {
   "cell_type": "markdown",
   "id": "36142a72",
   "metadata": {},
   "source": [
    "Similarly as before, we need to simulate the ground-truth regulation matrix R. We generate a sparse matrix, where non-zero entries are uniformly sampled in (0, 1). "
   ]
  },
  {
   "cell_type": "code",
   "execution_count": 3,
   "id": "7e563af4",
   "metadata": {},
   "outputs": [],
   "source": [
    "def generate_regulation(g, tf) :\n",
    "    sparsity = 0.2\n",
    "    rng = default_rng()\n",
    "    rvs = stats.uniform(loc = 0, scale = 1).rvs\n",
    "    R = scipy.sparse.random(g, tf, sparsity, random_state = rng, data_rvs = rvs).A\n",
    "    return R"
   ]
  },
  {
   "cell_type": "markdown",
   "id": "fc35280d",
   "metadata": {},
   "source": [
    "The motif is computed from the true regulation matrix by corrupting it with random uniform noise. "
   ]
  },
  {
   "cell_type": "code",
   "execution_count": 4,
   "id": "b5735936",
   "metadata": {},
   "outputs": [],
   "source": [
    "def generate_motif(r):\n",
    "    return r + np.random.uniform(-1, 1, (r.shape[0], r.shape[1]))"
   ]
  },
  {
   "cell_type": "markdown",
   "id": "fe433682",
   "metadata": {},
   "source": [
    "We decide that two proteins interact if they co-regulate \"many\" genes. To pick a proper threshold value, we plot the distribution of the number of co-regulated genes. "
   ]
  },
  {
   "cell_type": "code",
   "execution_count": 5,
   "id": "86ddfe0f",
   "metadata": {},
   "outputs": [],
   "source": [
    "R = generate_regulation(G, TF)"
   ]
  },
  {
   "cell_type": "code",
   "execution_count": 6,
   "id": "ea36d322",
   "metadata": {},
   "outputs": [
    {
     "data": {
      "text/plain": [
       "(0.0, 470.0)"
      ]
     },
     "execution_count": 6,
     "metadata": {},
     "output_type": "execute_result"
    },
    {
     "data": {
      "image/png": "[encoded data removed]",
      "text/plain": [
       "<Figure size 640x480 with 1 Axes>"
      ]
     },
     "metadata": {},
     "output_type": "display_data"
    }
   ],
   "source": [
    "cooperation = []\n",
    "R[R != 0] = 1\n",
    "for i in range(TF):\n",
    "    for j in range(i + 1, TF):\n",
    "        cooperation.append(R[:, i].dot(R[:, j]))\n",
    "\n",
    "\"The following lines or code are taken from https://realpython.com/python-histograms/ [Accessed on Jan. 13th 2023]\"\n",
    "s, bins, patches = plt.hist(x = cooperation, bins='auto', color='#0504aa', alpha=0.7, rwidth=0.85)\n",
    "plt.grid(axis='y', alpha = 0.75)\n",
    "plt.xlabel('Number of co-regulated genes')\n",
    "plt.ylabel('Frequency')\n",
    "maxfreq = s.max()\n",
    "plt.ylim(ymax=np.ceil(maxfreq / 10) * 10 if maxfreq % 10 else maxfreq + 10)"
   ]
  },
  {
   "cell_type": "markdown",
   "id": "34e1d258",
   "metadata": {},
   "source": [
    "We want a sparse PPI, so we (heuristically) pick 25 as threshold value. We now construct the PPI network. "
   ]
  },
  {
   "cell_type": "code",
   "execution_count": 24,
   "id": "476ebd74",
   "metadata": {},
   "outputs": [],
   "source": [
    "def generate_ppi(R):\n",
    "    ppi = np.zeros((R.shape[1], R.shape[1]))\n",
    "    R[R != 0] = 1\n",
    "    for i in range(R.shape[1]):\n",
    "        for j in range(R.shape[1]):\n",
    "            if i == j :\n",
    "                ppi[i, j] = 1 # By definition\n",
    "            else :\n",
    "                if R[:, i].dot(R[:, j]) >= 25:\n",
    "                    ppi[i, j] = 1\n",
    "    return ppi"
   ]
  },
  {
   "cell_type": "markdown",
   "id": "4372d03c",
   "metadata": {},
   "source": [
    "Gene expressioned is sampled from a multi-normal distribution with mean zero and the same covariance as the regulation matrix. "
   ]
  },
  {
   "cell_type": "code",
   "execution_count": 8,
   "id": "914ceb8c",
   "metadata": {},
   "outputs": [],
   "source": [
    "def generate_expression(C) :\n",
    "    return np.random.multivariate_normal([0 for i in range(G)], C.T, n).T"
   ]
  },
  {
   "cell_type": "markdown",
   "id": "971698d9",
   "metadata": {},
   "source": [
    "Now we have generators for all required data: a ground-truth regulation, a motif, and a PPI netork. We are ready to put the pieces together in our simulation. "
   ]
  },
  {
   "cell_type": "code",
   "execution_count": 27,
   "id": "e0fd3000",
   "metadata": {},
   "outputs": [],
   "source": [
    "def simulation() :\n",
    "    R = generate_regulation(G, TF)\n",
    "    ppi = generate_ppi(R)\n",
    "    motif = generate_motif(R)\n",
    "    expression = generate_expression(R.dot(R.T))\n",
    "\n",
    "    otter_regulation = otter(motif.T, ppi, np.corrcoef(motif))\n",
    "    giraffe_regulation = giraffe.Giraffe(expression, motif, ppi, lam = [0.000001, 5, 50, 1, 1]).get_regulation()\n",
    "    #motif[motif >= np.quantile(motif, .6)] = 1 # PANDA requires a binary motif\n",
    "    #panda_regulation = run_panda(R0, panda_motif, PPI, G, TF)\n",
    "    print(giraffe_regulation.shape)\n",
    "    return giraffe.evaluate_regulation_auroc(R, giraffe_regulation), giraffe.evaluate_regulation_auroc(R, otter_regulation.T), giraffe.evaluate_regulation_auroc(R, motif)"
   ]
  },
  {
   "cell_type": "code",
   "execution_count": 28,
   "id": "7725d654",
   "metadata": {},
   "outputs": [
    {
     "name": "stdout",
     "output_type": "stream",
     "text": [
      "(500, 100)\n"
     ]
    },
    {
     "data": {
      "text/plain": [
       "(0.8583376475, 0.7523665350000001, 0.7473188375)"
      ]
     },
     "execution_count": 28,
     "metadata": {},
     "output_type": "execute_result"
    }
   ],
   "source": [
    "simulation()"
   ]
  }
 ],
 "metadata": {
  "kernelspec": {
   "display_name": "Python 3 (ipykernel)",
   "language": "python",
   "name": "python3"
  },
  "language_info": {
   "codemirror_mode": {
    "name": "ipython",
    "version": 3
   },
   "file_extension": ".py",
   "mimetype": "text/x-python",
   "name": "python",
   "nbconvert_exporter": "python",
   "pygments_lexer": "ipython3",
   "version": "3.10.6"
  }
 },
 "nbformat": 4,
 "nbformat_minor": 5
}
