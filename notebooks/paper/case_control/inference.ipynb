{
 "cells": [
  {
   "cell_type": "code",
   "execution_count": 1,
   "id": "5422d1f6-1899-44a5-a249-bc4874d48a9d",
   "metadata": {},
   "outputs": [],
   "source": [
    "import giraffe\n",
    "import numpy as np\n",
    "import pandas as pd"
   ]
  },
  {
   "cell_type": "markdown",
   "id": "ddde7955-06c0-4caf-91ff-82e90a183f2e",
   "metadata": {},
   "source": [
    "# BRCA\n",
    "## Loading the data"
   ]
  },
  {
   "cell_type": "code",
   "execution_count": 14,
   "id": "9bd2cd09-397a-4deb-b489-133667badfea",
   "metadata": {},
   "outputs": [],
   "source": [
    "gene_to_name = lambda gene : gene[0:15]\n",
    "\n",
    "expression_case = pd.read_csv(\"BRCA_case.csv\", index_col = 0)\n",
    "expression_control = pd.read_csv(\"BRCA_nat.csv\", index_col = 0)\n",
    "\n",
    "expression_case.index = map(gene_to_name, expression_case.index)\n",
    "expression_control.index = map(gene_to_name, expression_control.index)\n",
    "expression_case.sort_index(inplace=True)\n",
    "expression_control.sort_index(inplace=True)"
   ]
  },
  {
   "cell_type": "code",
   "execution_count": 18,
   "id": "ff196130-57d7-4884-94f5-778cd7780015",
   "metadata": {},
   "outputs": [],
   "source": [
    "motif = pd.read_csv(\"cancer_breast_otter_motif.csv\", index_col = 0)\n",
    "motif.sort_index(inplace=True)\n",
    "\n",
    "expression_case = expression_case.loc[expression_case.index.isin(motif.index),:]\n",
    "expression_control = expression_control.loc[expression_control.index.isin(motif.index),:]\n",
    "motif = motif.loc[motif.index.isin(expression_case.index), :]\n",
    "\n",
    "ppi = pd.read_csv(\"cancer_breast_otter_ppi.csv\", index_col = 0)"
   ]
  },
  {
   "cell_type": "markdown",
   "id": "66bfd1a4-a418-4d4b-a338-b9916fbf5864",
   "metadata": {},
   "source": [
    "## Inferring GIRAFFE GRNs"
   ]
  },
  {
   "cell_type": "code",
   "execution_count": 26,
   "id": "2c5d1c98-a81c-4815-ab17-f96a6b4c59f3",
   "metadata": {},
   "outputs": [],
   "source": [
    "R_case = giraffe.Giraffe(expression_case.to_numpy(), motif.to_numpy(), ppi.to_numpy()).get_regulation()"
   ]
  },
  {
   "cell_type": "code",
   "execution_count": 29,
   "id": "10078f15-22cf-4dfb-a63f-44e15049ac54",
   "metadata": {},
   "outputs": [],
   "source": [
    "R_control = giraffe.Giraffe(expression_control.to_numpy(), motif.to_numpy(), ppi.to_numpy()).get_regulation()"
   ]
  },
  {
   "cell_type": "code",
   "execution_count": 38,
   "id": "f8b71ccd-27c4-4a70-a1ce-79a018ac5194",
   "metadata": {},
   "outputs": [],
   "source": [
    "pd.DataFrame(R_case, index=motif.index, columns=motif.columns).to_csv(\"data/brca/network_case.tsv\", sep=\"\\t\")"
   ]
  },
  {
   "cell_type": "code",
   "execution_count": 39,
   "id": "377fbf47-e60b-48cf-bdf1-87397a53bbd4",
   "metadata": {},
   "outputs": [],
   "source": [
    "pd.DataFrame(R_control, index=motif.index, columns=motif.columns).to_csv(\"data/brca/network_control.tsv\", sep=\"\\t\")"
   ]
  },
  {
   "cell_type": "markdown",
   "id": "a273b0e2-bc95-4a43-9ad3-afa20ad82988",
   "metadata": {},
   "source": [
    "# CESC\n",
    "## Loading the data"
   ]
  },
  {
   "cell_type": "code",
   "execution_count": 2,
   "id": "d0293701-2875-4037-bcf7-7b0b13fe85de",
   "metadata": {},
   "outputs": [],
   "source": [
    "gene_to_name = lambda gene : gene[0:15]\n",
    "\n",
    "expression_case = pd.read_csv(\"CESC_case.csv\", index_col = 0)\n",
    "expression_control = pd.read_csv(\"CESC_nat.csv\", index_col = 0)\n",
    "\n",
    "expression_case.index = map(gene_to_name, expression_case.index)\n",
    "expression_control.index = map(gene_to_name, expression_control.index)\n",
    "expression_case.sort_index(inplace=True)\n",
    "expression_control.sort_index(inplace=True)"
   ]
  },
  {
   "cell_type": "code",
   "execution_count": 3,
   "id": "adfc15ae-a474-4d58-9ddd-84e349be3b43",
   "metadata": {},
   "outputs": [],
   "source": [
    "motif = pd.read_csv(\"cancer_cervix_otter_motif.csv\", index_col = 0)\n",
    "motif.sort_index(inplace=True)\n",
    "\n",
    "expression_case = expression_case.loc[expression_case.index.isin(motif.index),:]\n",
    "expression_control = expression_control.loc[expression_control.index.isin(motif.index),:]\n",
    "motif = motif.loc[motif.index.isin(expression_case.index), :]\n",
    "\n",
    "ppi = pd.read_csv(\"cancer_cervix_otter_ppi.csv\", index_col = 0)"
   ]
  },
  {
   "cell_type": "markdown",
   "id": "649131b5-8d92-40fa-8e84-5802c2083264",
   "metadata": {},
   "source": [
    "## Inferring GIRAFFE GRNs "
   ]
  },
  {
   "cell_type": "code",
   "execution_count": 4,
   "id": "3d8b843c-3312-46b7-ab12-694f75bfc008",
   "metadata": {},
   "outputs": [],
   "source": [
    "R_case = giraffe.Giraffe(expression_case.to_numpy(), motif.to_numpy(), ppi.to_numpy()).get_regulation()"
   ]
  },
  {
   "cell_type": "code",
   "execution_count": 6,
   "id": "f12805ad-f559-47dc-994e-bc16cfcc30d8",
   "metadata": {},
   "outputs": [],
   "source": [
    "R_control = giraffe.Giraffe(expression_control.to_numpy(), motif.to_numpy(), ppi.to_numpy()).get_regulation()"
   ]
  },
  {
   "cell_type": "code",
   "execution_count": 5,
   "id": "94343840-a0bc-4923-9e89-7624e9ea6406",
   "metadata": {},
   "outputs": [],
   "source": [
    "pd.DataFrame(R_case, index=motif.index, columns=motif.columns).to_csv(\"data/cesc/network_case.tsv\", sep=\"\\t\")"
   ]
  },
  {
   "cell_type": "code",
   "execution_count": 7,
   "id": "1c8f0535-4406-4c01-8149-18d3c20fd37a",
   "metadata": {},
   "outputs": [],
   "source": [
    "pd.DataFrame(R_control, index=motif.index, columns=motif.columns).to_csv(\"data/cesc/network_control.tsv\", sep=\"\\t\")"
   ]
  },
  {
   "cell_type": "code",
   "execution_count": 10,
   "id": "da8f7024-d5b0-4700-be08-73f81acb42f8",
   "metadata": {},
   "outputs": [
    {
     "data": {
      "text/plain": [
       "array([[-1.41590017e-05, -5.42589878e-05, -2.13047952e-06, ...,\n",
       "        -1.15869830e-06, -6.58308352e-07, -1.10720403e-05],\n",
       "       [ 1.40295315e-05,  5.35938598e-05,  4.70353780e-06, ...,\n",
       "         3.68506630e-06,  2.90170965e-06,  1.14952563e-05],\n",
       "       [-4.69008728e-06, -2.08475158e-05, -1.51473614e-07, ...,\n",
       "         2.37834783e-07,  2.68224227e-07, -4.41910242e-06],\n",
       "       ...,\n",
       "       [-1.68665019e-06, -1.52168077e-05,  2.63134297e-07, ...,\n",
       "         2.95587341e-07,  6.61290699e-07,  1.19812995e-07],\n",
       "       [-1.62465331e-05, -6.49121503e-05, -2.94241158e-06, ...,\n",
       "        -1.96299834e-06, -1.10652149e-06, -1.08949371e-05],\n",
       "       [-1.84157088e-05, -6.99226875e-05, -3.28591864e-06, ...,\n",
       "        -2.11574365e-06, -1.37013478e-06, -1.32230189e-05]], dtype=float32)"
      ]
     },
     "execution_count": 10,
     "metadata": {},
     "output_type": "execute_result"
    }
   ],
   "source": [
    "R_control"
   ]
  },
  {
   "cell_type": "markdown",
   "id": "3f5da3b4-6320-4724-b750-b025a8a2c3d4",
   "metadata": {},
   "source": [
    "# LIHC\n",
    "## Loading the data"
   ]
  },
  {
   "cell_type": "code",
   "execution_count": 3,
   "id": "df70205f-53cf-4f48-8fb9-0daa8d23ac23",
   "metadata": {},
   "outputs": [],
   "source": [
    "gene_to_name = lambda gene : gene[0:15]\n",
    "\n",
    "expression_case = pd.read_csv(\"LIHC_case.csv\", index_col = 0)\n",
    "expression_control = pd.read_csv(\"LIHC_nat.csv\", index_col = 0)\n",
    "\n",
    "expression_case.index = map(gene_to_name, expression_case.index)\n",
    "expression_control.index = map(gene_to_name, expression_control.index)\n",
    "expression_case.sort_index(inplace=True)\n",
    "expression_control.sort_index(inplace=True)"
   ]
  },
  {
   "cell_type": "code",
   "execution_count": 5,
   "id": "4e5eb9e3-38fb-4d9b-8162-f4dac373df54",
   "metadata": {},
   "outputs": [],
   "source": [
    "motif = pd.read_csv(\"cancer_liver_otter_motif.csv\", index_col = 0)\n",
    "motif.sort_index(inplace=True)\n",
    "\n",
    "expression_case = expression_case.loc[expression_case.index.isin(motif.index),:]\n",
    "expression_control = expression_control.loc[expression_control.index.isin(motif.index),:]\n",
    "motif = motif.loc[motif.index.isin(expression_case.index), :]\n",
    "\n",
    "ppi = pd.read_csv(\"cancer_liver_otter_ppi.csv\", index_col = 0)"
   ]
  },
  {
   "cell_type": "markdown",
   "id": "bbac77df-93ea-49fc-8552-0b27fa40fbf9",
   "metadata": {},
   "source": [
    "## Inferring GIRAFFE GRNs"
   ]
  },
  {
   "cell_type": "code",
   "execution_count": 6,
   "id": "fb381470-0a2e-43b6-843e-e737a8c74754",
   "metadata": {},
   "outputs": [],
   "source": [
    "R_case = giraffe.Giraffe(expression_case.to_numpy(), motif.to_numpy(), ppi.to_numpy()).get_regulation()"
   ]
  },
  {
   "cell_type": "code",
   "execution_count": 8,
   "id": "d22b2ef1-a218-4c7d-be22-024553a3abed",
   "metadata": {},
   "outputs": [],
   "source": [
    "R_control = giraffe.Giraffe(expression_control.to_numpy(), motif.to_numpy(), ppi.to_numpy()).get_regulation()"
   ]
  },
  {
   "cell_type": "code",
   "execution_count": 7,
   "id": "81d88f6d-07c0-4ec3-8e06-79cacc81e360",
   "metadata": {},
   "outputs": [],
   "source": [
    "pd.DataFrame(R_case, index=motif.index, columns=motif.columns).to_csv(\"data/lihc/network_case.tsv\", sep=\"\\t\")"
   ]
  },
  {
   "cell_type": "code",
   "execution_count": 39,
   "id": "2579c138-448a-41e7-9909-916d24234f34",
   "metadata": {},
   "outputs": [],
   "source": [
    "pd.DataFrame(R_control, index=motif.index, columns=motif.columns).to_csv(\"data/lihc/network_control.tsv\", sep=\"\\t\")"
   ]
  }
 ],
 "metadata": {
  "kernelspec": {
   "display_name": "Python 3 (ipykernel)",
   "language": "python",
   "name": "python3"
  },
  "language_info": {
   "codemirror_mode": {
    "name": "ipython",
    "version": 3
   },
   "file_extension": ".py",
   "mimetype": "text/x-python",
   "name": "python",
   "nbconvert_exporter": "python",
   "pygments_lexer": "ipython3",
   "version": "3.9.6"
  }
 },
 "nbformat": 4,
 "nbformat_minor": 5
}
