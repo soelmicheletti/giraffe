{
 "cells": [
  {
   "cell_type": "code",
   "execution_count": 1,
   "id": "6573d410",
   "metadata": {},
   "outputs": [],
   "source": [
    "import giraffe\n",
    "import numpy as np\n",
    "import pandas as pd\n",
    "import warnings\n",
    "warnings.filterwarnings('ignore')"
   ]
  },
  {
   "cell_type": "code",
   "execution_count": 2,
   "id": "b453195e",
   "metadata": {},
   "outputs": [],
   "source": [
    "census = pd.read_csv(\"data/onco_tsg/raw/Census_allThu Feb 2 22 18 29 2023.csv\")\n",
    "translate = pd.read_csv(\"data/onco_tsg/raw/gen_v26_mapping.csv\")\n",
    "\n",
    "df = census[census['Tier'] == 1][['Gene Symbol', 'Role in Cancer', 'Tumour Types(Somatic)']]\n",
    "sign = []\n",
    "for elem in census['Role in Cancer']:\n",
    "    if isinstance(elem, float):\n",
    "        sign.append(0)\n",
    "        continue\n",
    "    if 'TSG' in elem:\n",
    "        sign.append(1)\n",
    "    elif 'oncogene' in elem:\n",
    "        sign.append(-1)\n",
    "    else:\n",
    "        sign.append(0)\n",
    "df['sign'] = pd.DataFrame(sign)"
   ]
  },
  {
   "cell_type": "code",
   "execution_count": 3,
   "id": "93fa4d14",
   "metadata": {},
   "outputs": [],
   "source": [
    "def rank_val(A, B, gene):\n",
    "    vec = np.sum(np.abs(A - B), axis = 1)\n",
    "    return 1 - vec.argsort().argsort().loc[gene] / len(vec)\n",
    "\n",
    "def experiment(giraffe_gtex, giraffe_tcga, tissue):\n",
    "    hit = 0\n",
    "    tot = 0\n",
    "    scores = np.sum(giraffe_gtex - giraffe_tcga, axis = 1)\n",
    "    for gene in df['Gene Symbol']:\n",
    "        if isinstance(df[df['Gene Symbol'] == gene]['Tumour Types(Somatic)'].values[0], float):\n",
    "            continue\n",
    "        if tissue not in df[df['Gene Symbol'] == gene]['Tumour Types(Somatic)'].values[0]:\n",
    "            continue\n",
    "        if gene not in set(translate['gene_name']):\n",
    "            continue\n",
    "        translation = translate[translate['gene_name'] == gene]['gene_id'].values[0][0:15]\n",
    "        if translation not in scores.index:\n",
    "            continue\n",
    "        gt = df[df['Gene Symbol'] == gene]['sign'].values[0]\n",
    "        p = rank_val(giraffe_gtex, giraffe_tcga, translation)\n",
    "        if p > 0.10 :\n",
    "            continue\n",
    "        #print(df[df['Gene Symbol'] == gene]['Tumour Types(Somatic)'].values[0])\n",
    "        if gt == 0:\n",
    "            continue\n",
    "        real = scores[translation]\n",
    "        tot += 1\n",
    "        if real > 0 and gt == 1:\n",
    "            hit += 1\n",
    "            print(str(gene) + \" TSG, with ranking \" + str(p) + \" and correct direction\")\n",
    "        elif real < 0 and gt == -1:\n",
    "            hit += 1\n",
    "            print(str(gene) + \" OG, with ranking \" + str(p) + \" and correct direction\")\n",
    "        else:\n",
    "            print(str(gene) + \" with p-val \" + str(p) + \" and wrong direction\")"
   ]
  },
  {
   "cell_type": "markdown",
   "id": "1e2a2fb7",
   "metadata": {},
   "source": [
    "### Breast"
   ]
  },
  {
   "cell_type": "code",
   "execution_count": 4,
   "id": "a9cbda5f",
   "metadata": {},
   "outputs": [],
   "source": [
    "gtex = \"data/breast/raw/expression.csv\"\n",
    "tcga = \"https://granddb.s3.amazonaws.com/cancer/breast_cancer/cancer_breast_expression_tcga.csv\""
   ]
  },
  {
   "cell_type": "code",
   "execution_count": 5,
   "id": "1e77e042",
   "metadata": {},
   "outputs": [],
   "source": [
    "expression_tcga = pd.read_csv(tcga, sep = ',', index_col = 0)\n",
    "expression_gtex = pd.read_csv(gtex, index_col = 0, header = None)\n",
    "motif = pd.read_csv(\"data/breast/motif.csv\", index_col = 0)\n",
    "ppi = pd.read_csv(\"data/breast/ppi_matrix.csv\", index_col = 0)"
   ]
  },
  {
   "cell_type": "code",
   "execution_count": 6,
   "id": "92f12f6a",
   "metadata": {},
   "outputs": [],
   "source": [
    "expression_tcga = expression_tcga.loc[expression_tcga.index.isin(expression_gtex.index),:].astype(np.float)\n",
    "expression_gtex = expression_gtex.loc[expression_gtex.index.isin(expression_tcga.index),:].astype(np.float)\n",
    "motif = motif.loc[motif.index.isin(expression_gtex.index), :].astype(np.float)"
   ]
  },
  {
   "cell_type": "code",
   "execution_count": 7,
   "id": "ba0bf402",
   "metadata": {},
   "outputs": [
    {
     "name": "stdout",
     "output_type": "stream",
     "text": [
      "(22609, 1134)\n",
      "(22609, 217)\n",
      "(22609, 644)\n",
      "(644, 644)\n"
     ]
    }
   ],
   "source": [
    "print(expression_tcga.shape)\n",
    "print(expression_gtex.shape)\n",
    "print(motif.shape)\n",
    "print(ppi.shape)"
   ]
  },
  {
   "cell_type": "code",
   "execution_count": 8,
   "id": "df29528f",
   "metadata": {},
   "outputs": [],
   "source": [
    "giraffe_gtex = giraffe.Giraffe(expression_gtex.to_numpy(), motif.to_numpy(), ppi.to_numpy() + np.eye(ppi.shape[0]), save_computation = True).get_regulation()\n",
    "giraffe_gtex = pd.DataFrame(giraffe_gtex, index = motif.index, columns = motif.columns)"
   ]
  },
  {
   "cell_type": "code",
   "execution_count": 9,
   "id": "0a032c5f",
   "metadata": {},
   "outputs": [],
   "source": [
    "giraffe_tcga = giraffe.Giraffe(expression_tcga.to_numpy(), motif.to_numpy(), ppi.to_numpy() + np.eye(ppi.shape[0]), save_computation = True).get_regulation()\n",
    "giraffe_tcga = pd.DataFrame(giraffe_tcga, index = motif.index, columns = motif.columns)"
   ]
  },
  {
   "cell_type": "code",
   "execution_count": 10,
   "id": "f635bcb4",
   "metadata": {},
   "outputs": [
    {
     "name": "stdout",
     "output_type": "stream",
     "text": [
      "AKT1 with p-val 0.03149188376310319 and wrong direction\n",
      "ARID1A TSG, with ranking 0.07992392410102167 and correct direction\n",
      "BAP1 TSG, with ranking 0.07262594541996548 and correct direction\n",
      "CDKN1B TSG, with ranking 0.05272236719890311 and correct direction\n",
      "EP300 TSG, with ranking 0.04250519704542444 and correct direction\n",
      "ETV6 TSG, with ranking 0.08381617939758501 and correct direction\n",
      "NOTCH1 TSG, with ranking 0.04471670573665354 and correct direction\n",
      "TBX3 TSG, with ranking 0.05104162059356898 and correct direction\n"
     ]
    }
   ],
   "source": [
    "experiment(giraffe_gtex, giraffe_tcga, 'breast')"
   ]
  },
  {
   "cell_type": "markdown",
   "id": "e9b80ed2",
   "metadata": {},
   "source": [
    "### Skin"
   ]
  },
  {
   "cell_type": "code",
   "execution_count": 11,
   "id": "8d65cba1",
   "metadata": {},
   "outputs": [],
   "source": [
    "gtex = \"data/onco_tsg/Skin.csv\"\n",
    "tcga = \"https://granddb.s3.us-east-2.amazonaws.com/cancer/aggnets/expression/expression_tcga_HNSC.txt\""
   ]
  },
  {
   "cell_type": "code",
   "execution_count": 12,
   "id": "4e8d1710",
   "metadata": {},
   "outputs": [],
   "source": [
    "expression_tcga = pd.read_csv(tcga, sep = '\\t', index_col = 0)\n",
    "expression_gtex = pd.read_csv(gtex, index_col = 0, header = None)\n",
    "motif = pd.read_csv(\"data/on\", index_col = 0)\n",
    "ppi = pd.read_csv(\"data/prostate/ppi_matrix.csv\", index_col = 0)"
   ]
  },
  {
   "cell_type": "code",
   "execution_count": 13,
   "id": "bb5679f6",
   "metadata": {},
   "outputs": [],
   "source": [
    "expression_tcga = expression_tcga.loc[expression_tcga.index.isin(expression_gtex.index),:].astype(np.float)\n",
    "expression_gtex = expression_gtex.loc[expression_gtex.index.isin(expression_tcga.index),:].astype(np.float)\n",
    "motif = motif.loc[motif.index.isin(expression_gtex.index), :].astype(np.float)"
   ]
  },
  {
   "cell_type": "code",
   "execution_count": 14,
   "id": "e345cf59",
   "metadata": {},
   "outputs": [
    {
     "name": "stdout",
     "output_type": "stream",
     "text": [
      "(29374, 500)\n",
      "(29374, 661)\n",
      "(29374, 644)\n",
      "(644, 644)\n"
     ]
    }
   ],
   "source": [
    "print(expression_tcga.shape)\n",
    "print(expression_gtex.shape)\n",
    "print(motif.shape)\n",
    "print(ppi.shape)"
   ]
  },
  {
   "cell_type": "code",
   "execution_count": 15,
   "id": "8fd32219",
   "metadata": {},
   "outputs": [],
   "source": [
    "giraffe_gtex = giraffe.Giraffe(expression_gtex.to_numpy(), motif.to_numpy(), ppi.to_numpy() + np.eye(ppi.shape[0]), save_computation = True).get_regulation()\n",
    "giraffe_gtex = pd.DataFrame(giraffe_gtex, index = motif.index, columns = motif.columns)"
   ]
  },
  {
   "cell_type": "code",
   "execution_count": 16,
   "id": "e93a19fc",
   "metadata": {},
   "outputs": [],
   "source": [
    "giraffe_tcga = giraffe.Giraffe(expression_tcga.to_numpy(), motif.to_numpy(), ppi.to_numpy() + np.eye(ppi.shape[0]), save_computation = True).get_regulation()\n",
    "giraffe_tcga = pd.DataFrame(-giraffe_tcga, index = motif.index, columns = motif.columns)"
   ]
  },
  {
   "cell_type": "code",
   "execution_count": 17,
   "id": "38711f6e",
   "metadata": {},
   "outputs": [
    {
     "name": "stdout",
     "output_type": "stream",
     "text": [
      "NFE2L2 TSG, with ranking 0.04735480356778099 and correct direction\n",
      "TSC2 TSG, with ranking 0.043201470688363885 and correct direction\n"
     ]
    }
   ],
   "source": [
    "experiment(giraffe_gtex, giraffe_tcga, 'HNSC')"
   ]
  },
  {
   "cell_type": "markdown",
   "id": "ac5bec89",
   "metadata": {},
   "source": [
    "### Colon"
   ]
  },
  {
   "cell_type": "code",
   "execution_count": 140,
   "id": "5f0aab74",
   "metadata": {},
   "outputs": [],
   "source": [
    "tcga = \"https://granddb.s3.amazonaws.com/cancer/colon_cancer/cancer_colon_expression_tcga.txt\"\n",
    "gtex = \"data/colon/raw/expression.csv\""
   ]
  },
  {
   "cell_type": "code",
   "execution_count": 141,
   "id": "97075d1a",
   "metadata": {},
   "outputs": [
    {
     "name": "stderr",
     "output_type": "stream",
     "text": [
      "/tmp/ipykernel_115545/3059018056.py:2: DtypeWarning: Columns (1,2,3,4,5,6,7,8,9,10,11,12,13,14,15,16,17,18,19,20,21,22,23,24,25,26,27,28,29,30,31,32,33,34,35,36,37,38,39,40,41,42,43,44,45,46,47,48,49,50,51,52,53,54,55,56,57,58,59,60,61,62,63,64,65,66,67,68,69,70,71,72,73,74,75,76,77,78,79,80,81,82,83,84,85,86,87,88,89,90,91,92,93,94,95,96,97,98,99,100,101,102,103,104,105,106,107,108,109,110,111,112,113,114,115,116,117,118,119,120,121,122,123,124,125,126,127,128,129,130,131,132,133,134,135,136,137,138,139,140,141,142,143,144,145,146,147,148,149,150,151,152,153,154,155,156,157,158,159,160,161,162,163,164,165,166,167,168,169,170,171,172,173,174,175,176,177,178,179,180,181,182,183,184,185,186,187,188,189,190,191,192,193,194,195,196,197,198,199,200,201,202,203) have mixed types. Specify dtype option on import or set low_memory=False.\n",
      "  expression_gtex = pd.read_csv(gtex, index_col = 0, header = None)\n"
     ]
    }
   ],
   "source": [
    "expression_tcga = pd.read_csv(tcga, sep = '\\t', index_col = 0)\n",
    "expression_gtex = pd.read_csv(gtex, index_col = 0, header = None)\n",
    "motif = pd.read_csv(\"data/colon/motif.csv\", index_col = 0)\n",
    "ppi = pd.read_csv(\"data/colon/ppi_matrix.csv\", index_col = 0)"
   ]
  },
  {
   "cell_type": "code",
   "execution_count": 142,
   "id": "fbab5845",
   "metadata": {},
   "outputs": [],
   "source": [
    "genes = expression_tcga.index\n",
    "genes_id = []\n",
    "for gene in genes:\n",
    "    if len(list(translate[translate['gene_name'] == gene]['gene_id'])) > 0:\n",
    "        genes_id.append(list(translate[translate['gene_name'] == gene]['gene_id'])[0][0:15])\n",
    "    else:\n",
    "        genes_id.append(-1)\n",
    "expression_tcga.index = genes_id"
   ]
  },
  {
   "cell_type": "code",
   "execution_count": 143,
   "id": "31089e2f",
   "metadata": {},
   "outputs": [
    {
     "name": "stderr",
     "output_type": "stream",
     "text": [
      "/tmp/ipykernel_115545/1748927630.py:1: DeprecationWarning: `np.float` is a deprecated alias for the builtin `float`. To silence this warning, use `float` by itself. Doing this will not modify any behavior and is safe. If you specifically wanted the numpy scalar type, use `np.float64` here.\n",
      "Deprecated in NumPy 1.20; for more details and guidance: https://numpy.org/devdocs/release/1.20.0-notes.html#deprecations\n",
      "  expression_tcga = expression_tcga.loc[expression_tcga.index.isin(expression_gtex.index),:].astype(np.float)\n",
      "/tmp/ipykernel_115545/1748927630.py:2: DeprecationWarning: `np.float` is a deprecated alias for the builtin `float`. To silence this warning, use `float` by itself. Doing this will not modify any behavior and is safe. If you specifically wanted the numpy scalar type, use `np.float64` here.\n",
      "Deprecated in NumPy 1.20; for more details and guidance: https://numpy.org/devdocs/release/1.20.0-notes.html#deprecations\n",
      "  expression_gtex = expression_gtex.loc[expression_gtex.index.isin(expression_tcga.index),:].astype(np.float)\n",
      "/tmp/ipykernel_115545/1748927630.py:3: DeprecationWarning: `np.float` is a deprecated alias for the builtin `float`. To silence this warning, use `float` by itself. Doing this will not modify any behavior and is safe. If you specifically wanted the numpy scalar type, use `np.float64` here.\n",
      "Deprecated in NumPy 1.20; for more details and guidance: https://numpy.org/devdocs/release/1.20.0-notes.html#deprecations\n",
      "  motif = motif.loc[motif.index.isin(expression_gtex.index), :].astype(np.float)\n"
     ]
    }
   ],
   "source": [
    "expression_tcga = expression_tcga.loc[expression_tcga.index.isin(expression_gtex.index),:].astype(np.float)\n",
    "expression_gtex = expression_gtex.loc[expression_gtex.index.isin(expression_tcga.index),:].astype(np.float)\n",
    "motif = motif.loc[motif.index.isin(expression_gtex.index), :].astype(np.float)"
   ]
  },
  {
   "cell_type": "code",
   "execution_count": 144,
   "id": "741a8017",
   "metadata": {},
   "outputs": [
    {
     "name": "stdout",
     "output_type": "stream",
     "text": [
      "(12383, 445)\n",
      "(12383, 203)\n",
      "(12383, 644)\n",
      "(644, 644)\n"
     ]
    }
   ],
   "source": [
    "print(expression_tcga.shape)\n",
    "print(expression_gtex.shape)\n",
    "print(motif.shape)\n",
    "print(ppi.shape)"
   ]
  },
  {
   "cell_type": "code",
   "execution_count": 157,
   "id": "658362a3",
   "metadata": {},
   "outputs": [],
   "source": [
    "giraffe_gtex = giraffe.Giraffe(expression_gtex.to_numpy(), motif.to_numpy(), ppi.to_numpy() + np.eye(ppi.shape[0])).get_regulation()\n",
    "giraffe_gtex = pd.DataFrame(giraffe_gtex, index = motif.index, columns = motif.columns)"
   ]
  },
  {
   "cell_type": "code",
   "execution_count": 158,
   "id": "798fbdce",
   "metadata": {},
   "outputs": [],
   "source": [
    "giraffe_tcga = giraffe.Giraffe(expression_tcga.to_numpy(), motif.to_numpy(), ppi.to_numpy() + np.eye(ppi.shape[0])).get_regulation()\n",
    "giraffe_tcga = pd.DataFrame(giraffe_tcga, index = motif.index, columns = motif.columns)"
   ]
  },
  {
   "cell_type": "code",
   "execution_count": 162,
   "id": "9bf46c83",
   "metadata": {},
   "outputs": [
    {
     "name": "stdout",
     "output_type": "stream",
     "text": [
      "ERBB3 OG, with ranking 0.04425421949446817 and correct direction\n"
     ]
    }
   ],
   "source": [
    "experiment(giraffe_gtex, giraffe_tcga, 'colon')"
   ]
  },
  {
   "cell_type": "markdown",
   "id": "1c9a8eef",
   "metadata": {},
   "source": [
    "### Lung"
   ]
  },
  {
   "cell_type": "code",
   "execution_count": 18,
   "id": "57fdd02b",
   "metadata": {},
   "outputs": [],
   "source": [
    "tcga = \"https://granddb.s3.us-east-2.amazonaws.com/cancer/aggnets/expression/expression_tcga_LUAD.txt\"\n",
    "#tcga = \"https://granddb.s3.us-east-2.amazonaws.com/cancer/aggnets/expression/expression_tcga_LUSC.txt\"\n",
    "gtex = \"data/onco_tsg/Lung.csv\""
   ]
  },
  {
   "cell_type": "code",
   "execution_count": 19,
   "id": "d6ca2b0f",
   "metadata": {},
   "outputs": [],
   "source": [
    "expression_tcga = pd.read_csv(tcga, sep = '\\t', index_col = 0)\n",
    "expression_gtex = pd.read_csv(gtex, index_col = 0)\n",
    "motif = pd.read_csv(\"data/onco_tsg/motif.csv\", index_col = 0)\n",
    "ppi = pd.read_csv(\"data/onco_tsg/ppi_matrix.csv\", index_col = 0)"
   ]
  },
  {
   "cell_type": "code",
   "execution_count": 20,
   "id": "59739077",
   "metadata": {},
   "outputs": [],
   "source": [
    "expression_tcga = expression_tcga.loc[expression_tcga.index.isin(expression_gtex.index),:].astype(np.float)\n",
    "expression_gtex = expression_gtex.loc[expression_gtex.index.isin(expression_tcga.index),:].astype(np.float)\n",
    "motif = motif.loc[motif.index.isin(expression_gtex.index), :].astype(np.float)"
   ]
  },
  {
   "cell_type": "code",
   "execution_count": 21,
   "id": "59a36eaf",
   "metadata": {},
   "outputs": [
    {
     "name": "stdout",
     "output_type": "stream",
     "text": [
      "(29374, 524)\n",
      "(29374, 360)\n",
      "(29374, 644)\n",
      "(644, 644)\n"
     ]
    }
   ],
   "source": [
    "print(expression_tcga.shape)\n",
    "print(expression_gtex.shape)\n",
    "print(motif.shape)\n",
    "print(ppi.shape)"
   ]
  },
  {
   "cell_type": "code",
   "execution_count": 22,
   "id": "123e9ab8",
   "metadata": {},
   "outputs": [],
   "source": [
    "giraffe_gtex = giraffe.Giraffe(expression_gtex.to_numpy(), motif.to_numpy(), ppi.to_numpy() + np.eye(ppi.shape[0]), save_computation = True).get_regulation()\n",
    "giraffe_gtex = pd.DataFrame(giraffe_gtex, index = motif.index, columns = motif.columns)"
   ]
  },
  {
   "cell_type": "code",
   "execution_count": 23,
   "id": "36c3f80b",
   "metadata": {},
   "outputs": [],
   "source": [
    "giraffe_tcga = giraffe.Giraffe(expression_tcga.to_numpy(), motif.to_numpy(), ppi.to_numpy() + np.eye(ppi.shape[0]), save_computation = True).get_regulation()\n",
    "giraffe_tcga = pd.DataFrame(giraffe_tcga, index = motif.index, columns = motif.columns)"
   ]
  },
  {
   "cell_type": "code",
   "execution_count": 24,
   "id": "436c4fe8",
   "metadata": {},
   "outputs": [
    {
     "name": "stdout",
     "output_type": "stream",
     "text": [
      "KRAS OG, with ranking 0.04207802818819362 and correct direction\n"
     ]
    }
   ],
   "source": [
    "experiment(giraffe_gtex, giraffe_tcga, 'lung')"
   ]
  },
  {
   "cell_type": "markdown",
   "id": "00affb98",
   "metadata": {},
   "source": [
    "### Thyroid"
   ]
  },
  {
   "cell_type": "code",
   "execution_count": 25,
   "id": "e5c4d579",
   "metadata": {},
   "outputs": [],
   "source": [
    "tcga = \"https://granddb.s3.us-east-2.amazonaws.com/cancer/aggnets/expression/expression_tcga_THCA.txt\"\n",
    "gtex = \"data/onco_tsg/Thyroid.csv\""
   ]
  },
  {
   "cell_type": "code",
   "execution_count": 26,
   "id": "79261126",
   "metadata": {},
   "outputs": [],
   "source": [
    "expression_tcga = pd.read_csv(tcga, sep = '\\t', index_col = 0)\n",
    "expression_gtex = pd.read_csv(gtex, index_col = 0)\n",
    "motif = pd.read_csv(\"data/onco_tsg/motif.csv\", index_col = 0)\n",
    "ppi = pd.read_csv(\"data/onco_tsg/ppi_matrix.csv\", index_col = 0)"
   ]
  },
  {
   "cell_type": "code",
   "execution_count": 27,
   "id": "2348a22a",
   "metadata": {},
   "outputs": [],
   "source": [
    "expression_tcga = expression_tcga.loc[expression_tcga.index.isin(expression_gtex.index),:].astype(np.float)\n",
    "expression_gtex = expression_gtex.loc[expression_gtex.index.isin(expression_tcga.index),:].astype(np.float)\n",
    "motif = motif.loc[motif.index.isin(expression_gtex.index), :].astype(np.float)"
   ]
  },
  {
   "cell_type": "code",
   "execution_count": 28,
   "id": "35e5f78b",
   "metadata": {},
   "outputs": [
    {
     "name": "stdout",
     "output_type": "stream",
     "text": [
      "(29374, 502)\n",
      "(29374, 355)\n",
      "(29374, 644)\n",
      "(644, 644)\n"
     ]
    }
   ],
   "source": [
    "print(expression_tcga.shape)\n",
    "print(expression_gtex.shape)\n",
    "print(motif.shape)\n",
    "print(ppi.shape)"
   ]
  },
  {
   "cell_type": "code",
   "execution_count": 29,
   "id": "63770dac",
   "metadata": {},
   "outputs": [],
   "source": [
    "giraffe_gtex = giraffe.Giraffe(expression_gtex.to_numpy(), motif.to_numpy(), ppi.to_numpy() + np.eye(ppi.shape[0]), save_computation = True).get_regulation()\n",
    "giraffe_gtex = pd.DataFrame(giraffe_gtex, index = motif.index, columns = motif.columns)"
   ]
  },
  {
   "cell_type": "code",
   "execution_count": 30,
   "id": "4c0e8190",
   "metadata": {},
   "outputs": [],
   "source": [
    "giraffe_tcga = giraffe.Giraffe(expression_tcga.to_numpy(), motif.to_numpy(), ppi.to_numpy() + np.eye(ppi.shape[0]), save_computation = True).get_regulation()\n",
    "giraffe_tcga = pd.DataFrame(giraffe_tcga, index = motif.index, columns = motif.columns)"
   ]
  },
  {
   "cell_type": "code",
   "execution_count": 31,
   "id": "11a22c80",
   "metadata": {},
   "outputs": [
    {
     "name": "stdout",
     "output_type": "stream",
     "text": [
      "KRAS OG, with ranking 0.04963573228024787 and correct direction\n",
      "NTRK1 TSG, with ranking 0.09978212024239119 and correct direction\n"
     ]
    }
   ],
   "source": [
    "experiment(giraffe_gtex, giraffe_tcga, 'thyroid')"
   ]
  }
 ],
 "metadata": {
  "kernelspec": {
   "display_name": "Python 3 (ipykernel)",
   "language": "python",
   "name": "python3"
  },
  "language_info": {
   "codemirror_mode": {
    "name": "ipython",
    "version": 3
   },
   "file_extension": ".py",
   "mimetype": "text/x-python",
   "name": "python",
   "nbconvert_exporter": "python",
   "pygments_lexer": "ipython3",
   "version": "3.10.6"
  }
 },
 "nbformat": 4,
 "nbformat_minor": 5
}
