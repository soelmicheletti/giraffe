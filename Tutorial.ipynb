{
 "cells": [
  {
   "cell_type": "markdown",
   "id": "f196a27f",
   "metadata": {},
   "source": [
    "# Inferring gene regulatory networks and transcription factor activities with GIRAFFE"
   ]
  },
  {
   "cell_type": "markdown",
   "id": "1ebc5054",
   "metadata": {},
   "source": [
    "The goal of GIRAFFE is to jointly estimate a gene regulatory network and transcription factor \n",
    "activities using a biologically informed matrix factorization.        \n",
    "![giraffe](./giraffe_overview.png)\n"
   ]
  },
  {
   "cell_type": "markdown",
   "id": "ce1b93e0",
   "metadata": {},
   "source": [
    "## Quick Start\n",
    "\n",
    "This is a simple introductory example of GIRAFFE on a small, artificially generated, dataset. GIRAFFE requires three inputs:      \n",
    "1. a normalized expression matrix with rows as genes and column as samples;       \n",
    "2. a prior network with rows genes and columns as TFs. We often use a binary motif-based prior network, but alternatives are possible.\n",
    "3. a symmetric protein-protein interaction network, with rows and columns as TFs. "
   ]
  },
  {
   "cell_type": "code",
   "execution_count": 1,
   "id": "4d6d565a",
   "metadata": {},
   "outputs": [],
   "source": [
    "import giraffe\n",
    "import numpy as np\n",
    "\n",
    "# Generate toy data\n",
    "G = 100 # Genes\n",
    "TF = 20 # Transcription factors (proteins)\n",
    "n = 10 # Samples (e.g. individuals)\n",
    "\n",
    "# expression of size (G, n); prior of size (G, TF); PPI of size (TF, TF)\n",
    "expression = np.random.random((G, n))\n",
    "prior = np.random.randint(0, 2, size = (G, TF))\n",
    "ppi = np.random.randint(0, 2, size = (TF, TF))\n",
    "ppi ^= ppi.T\n",
    "np.fill_diagonal(ppi, 1)\n",
    "\n",
    "# Run GIRAFFE\n",
    "giraffe_model = giraffe.Giraffe(expression, prior, ppi)\n",
    "\n",
    "R_hat = giraffe_model.get_regulation() # Size (G, TF)\n",
    "TFA_hat = giraffe_model.get_tfa() # Size (TF, n)"
   ]
  },
  {
   "cell_type": "markdown",
   "id": "3f6f777a",
   "metadata": {},
   "source": [
    "## Adjusting for variables of interest\n",
    "\n",
    "Optionally, GIRAFFE can be customized to the requirements of the downstream application by\n",
    "adjusting for variables of interest, such as confounders. "
   ]
  },
  {
   "cell_type": "code",
   "execution_count": 2,
   "id": "ed45cf74",
   "metadata": {},
   "outputs": [],
   "source": [
    "import giraffe\n",
    "import numpy as np\n",
    "\n",
    "# Generate toy data\n",
    "G = 100 # Genes\n",
    "TF = 20 # Transcription factors (proteins)\n",
    "n = 10 # Samples (e.g. individuals)\n",
    "\n",
    "# expression of size (G, n); prior of size (G, TF); PPI of size (TF, TF)\n",
    "expression = np.random.random((G, n))\n",
    "prior = np.random.randint(0, 2, size = (G, TF))\n",
    "ppi = np.random.randint(0, 2, size = (TF, TF))\n",
    "ppi ^= ppi.T\n",
    "np.fill_diagonal(ppi, 1)\n",
    "\n",
    "# Variable we want to adjust for\n",
    "\n",
    "possible_confounder = np.random.random(n)\n",
    "\n",
    "# Run GIRAFFE\n",
    "giraffe_model = giraffe.Giraffe(expression, prior, ppi, adjusting = possible_confounder)\n",
    "\n",
    "R_hat = giraffe_model.get_regulation() # Size (G, TF)\n",
    "TFA_hat = giraffe_model.get_tfa() # Size (TF, n)"
   ]
  },
  {
   "cell_type": "markdown",
   "id": "e0d9bd6f",
   "metadata": {},
   "source": [
    "## Promoting sparsity in the regulatory matrix\n",
    "\n",
    "A second possibility to customize GIRAFFE is enforcing sparsity in the inferred regulatory network via l1-regularization. Stability selection <sup>1</sup> is a possibility to tune the strength of the l1-penalty. "
   ]
  },
  {
   "cell_type": "code",
   "execution_count": 4,
   "id": "79a9c817",
   "metadata": {},
   "outputs": [],
   "source": [
    "from grn_stability_selection import *\n",
    "\n",
    "def giraffe_wrapper(expression, prior, ppi, regularization = 0):\n",
    "    return giraffe.Giraffe(expression, prior, ppi, regularization = regularization).get_regulation()\n",
    "\n",
    "stability = StabilitySelection(giraffe_wrapper, lambdas = np.linspace(1e-6, 1e-4, 10), K = 100, v = 30)\n",
    "structure = stability(expression = expression, prior = prior, ppi = ppi)\n",
    "R_giraffe = giraffe.Giraffe(expression, prior, ppi).get_regulation()\n",
    "R_giraffe = np.where(structure, R_giraffe, 0)"
   ]
  },
  {
   "cell_type": "markdown",
   "id": "f0093130",
   "metadata": {},
   "source": [
    "## References\n",
    "\n",
    "[1] Meinshausen, Nicolai, and Peter Bühlmann. \"Stability selection.\" Journal of the Royal Statistical Society: Series B (Statistical Methodology) 72.4 (2010): 417-473."
   ]
  }
 ],
 "metadata": {
  "kernelspec": {
   "display_name": "Python 3 (ipykernel)",
   "language": "python",
   "name": "python3"
  },
  "language_info": {
   "codemirror_mode": {
    "name": "ipython",
    "version": 3
   },
   "file_extension": ".py",
   "mimetype": "text/x-python",
   "name": "python",
   "nbconvert_exporter": "python",
   "pygments_lexer": "ipython3",
   "version": "3.10.6"
  }
 },
 "nbformat": 4,
 "nbformat_minor": 5
}
