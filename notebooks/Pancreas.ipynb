{
 "cells": [
  {
   "cell_type": "code",
   "execution_count": 1,
   "id": "cb67f400",
   "metadata": {},
   "outputs": [],
   "source": [
    "from data.pancreas import preprocessing\n",
    "import giraffe \n",
    "from netZooPy.otter.otter import otter\n",
    "import numpy as np\n",
    "import pandas as pd"
   ]
  },
  {
   "cell_type": "code",
   "execution_count": 2,
   "id": "1c207ff4",
   "metadata": {},
   "outputs": [],
   "source": [
    "cache = True"
   ]
  },
  {
   "cell_type": "code",
   "execution_count": 3,
   "id": "c7424f11",
   "metadata": {},
   "outputs": [],
   "source": [
    "if not cache:\n",
    "    preprocessing.generate_data()"
   ]
  },
  {
   "cell_type": "code",
   "execution_count": 8,
   "id": "231064f0",
   "metadata": {},
   "outputs": [],
   "source": [
    "gtex = pd.read_csv(\"data/pancreas/raw/xprs_panc_gtex_snail.tsv\", sep = '\\t', index_col = 0)\n",
    "tcga = pd.read_csv(\"data/pancreas/raw/xprs_panc_tcga_snail.tsv\", sep = '\\t', index_col = 0)\n",
    "genes = [gene[0:15] for gene in gtex.index]\n",
    "gtex = pd.DataFrame(gtex.to_numpy(), index = genes, columns = gtex.columns)\n",
    "tcga = pd.DataFrame(tcga.to_numpy(), index = genes, columns = tcga.columns)\n",
    "motif = pd.read_csv(\"data/pancreas/motif.txt\", index_col = 0)\n",
    "ppi = pd.read_csv(\"data/pancreas/ppi.csv\", index_col = 0)"
   ]
  },
  {
   "cell_type": "code",
   "execution_count": 72,
   "id": "716a7efd",
   "metadata": {},
   "outputs": [],
   "source": [
    "giraffe_gtex = giraffe.Giraffe(gtex.to_numpy(), motif.to_numpy(), ppi.to_numpy() + np.eye(ppi.shape[0])).get_regulation()\n",
    "pd.DataFrame(giraffe_gtex, index = gtex.index, columns = motif.columns).to_csv(\"data/pancreas/giraffe_gtex.csv\")"
   ]
  },
  {
   "cell_type": "code",
   "execution_count": 7,
   "id": "22820d4a",
   "metadata": {},
   "outputs": [],
   "source": [
    "giraffe_tcga = giraffe.Giraffe(tcga.to_numpy(), motif.to_numpy(), ppi.to_numpy() + np.eye(ppi.shape[0])).get_regulation()\n",
    "pd.DataFrame(giraffe_tcga, index = gtex.index, columns = motif.columns).to_csv(\"data/pancreas/giraffe_tcga.csv\")"
   ]
  },
  {
   "cell_type": "code",
   "execution_count": 8,
   "id": "4bc1dc91",
   "metadata": {},
   "outputs": [],
   "source": [
    "tcga_otter = otter(motif.to_numpy().T, ppi.to_numpy() + np.eye(ppi.shape[0]), np.corrcoef(tcga.to_numpy()), Iter = 200)\n",
    "pd.DataFrame(tcga_otter, index = motif.columns, columns = gtex.index).to_csv(\"data/pancreas/tcga_otter.csv\")"
   ]
  },
  {
   "cell_type": "code",
   "execution_count": 9,
   "id": "b0907d34",
   "metadata": {},
   "outputs": [],
   "source": [
    "gtex_otter = otter(motif.to_numpy().T, ppi.to_numpy() + np.eye(ppi.shape[0]), np.corrcoef(gtex.to_numpy()), Iter = 200)\n",
    "pd.DataFrame(gtex_otter, index = motif.columns, columns = gtex.index).to_csv(\"data/pancreas/gtex_otter.csv\")"
   ]
  },
  {
   "cell_type": "markdown",
   "id": "37b20758",
   "metadata": {},
   "source": [
    "# Oncogenes vs Tumor Suppressor Genes"
   ]
  },
  {
   "cell_type": "code",
   "execution_count": 2,
   "id": "7b6283e1",
   "metadata": {},
   "outputs": [],
   "source": [
    "giraffe_gtex = pd.read_csv(\"data/pancreas/giraffe_gtex.csv\", index_col = 0)\n",
    "giraffe_tcga = pd.read_csv(\"data/pancreas/giraffe_tcga.csv\", index_col = 0)\n",
    "census = pd.read_csv(\"data/pancreas/raw/Census_allThu Feb 2 22 18 29 2023.csv\")\n",
    "translate = pd.read_csv(\"data/pancreas/raw/gen_v26_mapping.csv\")"
   ]
  },
  {
   "cell_type": "code",
   "execution_count": 3,
   "id": "0ba9f90e",
   "metadata": {},
   "outputs": [],
   "source": [
    "df = census[census['Tier'] == 1][['Gene Symbol', 'Role in Cancer', 'Tumour Types(Somatic)']]\n",
    "sign = []\n",
    "for elem in census['Role in Cancer']:\n",
    "    if isinstance(elem, float):\n",
    "        sign.append(0)\n",
    "        continue\n",
    "    if 'TSG' in elem:\n",
    "        sign.append(-1)\n",
    "    elif 'oncogene' in elem:\n",
    "        sign.append(1)\n",
    "    else:\n",
    "        sign.append(0)\n",
    "df['sign'] = pd.DataFrame(sign)"
   ]
  },
  {
   "cell_type": "code",
   "execution_count": 15,
   "id": "54f91900",
   "metadata": {},
   "outputs": [
    {
     "name": "stdout",
     "output_type": "stream",
     "text": [
      "ACVR1B with p-val 1.0 and correct direction\n",
      "ACVR2A with p-val 1.0 and wrong direction\n",
      "AKT2 with p-val 1.0 and correct direction\n",
      "APC with p-val 1.0 and correct direction\n",
      "ATRX with p-val 1.0 and correct direction\n",
      "BRAF with p-val 1.0 and wrong direction\n",
      "DAXX with p-val 1.0 and wrong direction\n",
      "EP300 with p-val 1.0 and correct direction\n",
      "FAT1 with p-val 1.0 and correct direction\n",
      "FAT4 with p-val 1.0 and wrong direction\n",
      "GNAS with p-val 1.0 and wrong direction\n",
      "HIF1A with p-val 1.0 and correct direction\n",
      "KRAS with p-val 1.0 and correct direction\n",
      "MAP2K4 with p-val 1.0 and correct direction\n",
      "MEN1 with p-val 1.0 and correct direction\n",
      "PREX2 with p-val 1.0 and correct direction\n",
      "RNF43 with p-val 1.0 and correct direction\n",
      "SMAD4 with p-val 1.0 and correct direction\n",
      "SND1 with p-val 1.0 and wrong direction\n",
      "STK11 with p-val 1.0 and correct direction\n",
      "14 20\n"
     ]
    }
   ],
   "source": [
    "from scipy import spatial\n",
    "def p_val(A, B, gene):\n",
    "    real = spatial.distance.sqeuclidean(A.loc[gene], B.loc[gene])\n",
    "    cnt = 0\n",
    "    for i in range(100):\n",
    "        if real < spatial.distance.sqeuclidean(np.random.permutation(A.loc[gene]), np.random.permutation(B.loc[gene])):\n",
    "            #print(str(real) + \" \" + str(spatial.distance.cosine(np.random.permutation(A.loc[gene]), np.random.permutation(B.loc[gene]))))\n",
    "            cnt += 1\n",
    "    return cnt / 100\n",
    "\n",
    "scores = np.sum(giraffe_gtex - giraffe_tcga, axis = 1)\n",
    "\n",
    "hit = 0\n",
    "tot = 0\n",
    "for gene in df['Gene Symbol']:\n",
    "    if isinstance(df[df['Gene Symbol'] == gene]['Tumour Types(Somatic)'].values[0], float):\n",
    "        continue\n",
    "    if 'pancr' not in df[df['Gene Symbol'] == gene]['Tumour Types(Somatic)'].values[0]:\n",
    "        continue\n",
    "    if gene not in set(translate['gene_name']):\n",
    "        continue\n",
    "    translation = translate[translate['gene_name'] == gene]['gene_id'].values[0][0:15]\n",
    "    if translation not in scores.index:\n",
    "        continue\n",
    "    gt = df[df['Gene Symbol'] == gene]['sign'].values[0]\n",
    "    p = p_val(giraffe_gtex, giraffe_tcga, translation)\n",
    "    if gt == 0:\n",
    "        continue\n",
    "    real = scores[translation]\n",
    "    tot += 1\n",
    "    if real > 0 and gt == 1:\n",
    "        hit += 1\n",
    "        print(str(gene) + \" with p-val \" + str(p) + \" and correct direction\")\n",
    "    elif real < 0 and gt == -1:\n",
    "        hit += 1\n",
    "        print(str(gene) + \" with p-val \" + str(p) + \" and correct direction\")\n",
    "    else:\n",
    "        print(str(gene) + \" with p-val \" + str(p) + \" and wrong direction\")\n",
    "print(str(hit) + \" \" + str(tot))"
   ]
  },
  {
   "cell_type": "code",
   "execution_count": 20,
   "id": "22fcceb3",
   "metadata": {},
   "outputs": [
    {
     "name": "stdout",
     "output_type": "stream",
     "text": [
      "ACVR1B with p-val 0.5911771325680846 and wrong direction\n",
      "ACVR2A with p-val 0.7882511816340311 and correct direction\n",
      "AKT2 with p-val 0.7322079675894666 and wrong direction\n",
      "APC with p-val 0.052397029034436195 and wrong direction\n",
      "ATRX with p-val 0.35471528246680173 and wrong direction\n",
      "BRAF with p-val 0.09930227323880261 and correct direction\n",
      "DAXX with p-val 0.879585865406257 and correct direction\n",
      "EP300 with p-val 0.23128516767949583 and wrong direction\n",
      "FAT1 with p-val 0.32923700202565837 and wrong direction\n",
      "FAT4 with p-val 0.7361692550078776 and correct direction\n",
      "GNAS with p-val 0.037722259734413684 and correct direction\n",
      "HIF1A with p-val 0.7764573486383074 and wrong direction\n",
      "KRAS with p-val 0.628944406932253 and wrong direction\n",
      "MAP2K4 with p-val 0.14737789781679045 and wrong direction\n",
      "MEN1 with p-val 0.37083051991897364 and wrong direction\n",
      "PREX2 with p-val 0.8431240153049742 and wrong direction\n",
      "RNF43 with p-val 0.29673643934278643 and wrong direction\n",
      "SMAD4 with p-val 0.3143821742066171 and wrong direction\n",
      "SND1 with p-val 0.019761422462300247 and correct direction\n",
      "STK11 with p-val 0.4419536349313527 and wrong direction\n",
      "6 20\n"
     ]
    }
   ],
   "source": [
    "from scipy import spatial\n",
    "def p_val(A, B, gene):\n",
    "    vec = np.sum(A - B, axis = 1)\n",
    "    return vec.argsort().argsort().loc[gene] / len(vec)\n",
    "\n",
    "scores = np.sum(giraffe_gtex - giraffe_tcga, axis = 1)\n",
    "\n",
    "hit = 0\n",
    "tot = 0\n",
    "for gene in df['Gene Symbol']:\n",
    "    if isinstance(df[df['Gene Symbol'] == gene]['Tumour Types(Somatic)'].values[0], float):\n",
    "        continue\n",
    "    if 'pancr' not in df[df['Gene Symbol'] == gene]['Tumour Types(Somatic)'].values[0]:\n",
    "        continue\n",
    "    if gene not in set(translate['gene_name']):\n",
    "        continue\n",
    "    translation = translate[translate['gene_name'] == gene]['gene_id'].values[0][0:15]\n",
    "    if translation not in scores.index:\n",
    "        continue\n",
    "    gt = df[df['Gene Symbol'] == gene]['sign'].values[0]\n",
    "    p = p_val(giraffe_gtex, giraffe_tcga, translation)\n",
    "    if gt == 0:\n",
    "        continue\n",
    "    real = scores[translation]\n",
    "    tot += 1\n",
    "    if real > 0 and gt == -1:\n",
    "        hit += 1\n",
    "        print(str(gene) + \" with p-val \" + str(p) + \" and correct direction\")\n",
    "    elif real < 0 and gt == 1:\n",
    "        hit += 1\n",
    "        print(str(gene) + \" with p-val \" + str(p) + \" and correct direction\")\n",
    "    else:\n",
    "        print(str(gene) + \" with p-val \" + str(p) + \" and wrong direction\")\n",
    "print(str(hit) + \" \" + str(tot))"
   ]
  },
  {
   "cell_type": "code",
   "execution_count": 25,
   "id": "203d0406",
   "metadata": {},
   "outputs": [
    {
     "name": "stdout",
     "output_type": "stream",
     "text": [
      "ACVR1B with p-val 0.99 and correct direction\n",
      "ACVR2A with p-val 0.91 and wrong direction\n",
      "AKT2 with p-val 0.97 and correct direction\n",
      "APC with p-val 0.79 and correct direction\n",
      "ATRX with p-val 0.9 and correct direction\n",
      "BRAF with p-val 0.82 and wrong direction\n",
      "DAXX with p-val 0.89 and wrong direction\n",
      "EP300 with p-val 0.9 and correct direction\n",
      "FAT1 with p-val 0.95 and correct direction\n",
      "FAT4 with p-val 0.93 and wrong direction\n",
      "GNAS with p-val 0.74 and wrong direction\n",
      "HIF1A with p-val 0.93 and correct direction\n",
      "KRAS with p-val 0.99 and correct direction\n",
      "MAP2K4 with p-val 0.82 and correct direction\n",
      "MEN1 with p-val 0.93 and correct direction\n",
      "PREX2 with p-val 0.89 and correct direction\n",
      "RNF43 with p-val 0.94 and correct direction\n",
      "SMAD4 with p-val 0.86 and correct direction\n",
      "SND1 with p-val 0.76 and wrong direction\n",
      "STK11 with p-val 0.94 and correct direction\n",
      "14 20\n"
     ]
    }
   ],
   "source": [
    "def p_val(A, B, gene):\n",
    "    real = np.sum(A - B, axis = 1).loc[gene]\n",
    "    cnt = 0\n",
    "    for i in range(100):\n",
    "        a = pd.DataFrame(np.random.permutation(A.values), index = A.index, columns = A.columns)\n",
    "        b = pd.DataFrame(np.random.permutation(B.values), index = B.index, columns = B.columns)\n",
    "        if np.abs(np.sum(a - b, axis = 1).loc[gene]) >= np.abs(real):\n",
    "            cnt += 1\n",
    "    return cnt / 100\n",
    "\n",
    "scores = np.sum(giraffe_gtex - giraffe_tcga, axis = 1)\n",
    "\n",
    "hit = 0\n",
    "tot = 0\n",
    "for gene in df['Gene Symbol']:\n",
    "    if isinstance(df[df['Gene Symbol'] == gene]['Tumour Types(Somatic)'].values[0], float):\n",
    "        continue\n",
    "    if 'pancr' not in df[df['Gene Symbol'] == gene]['Tumour Types(Somatic)'].values[0]:\n",
    "        continue\n",
    "    if gene not in set(translate['gene_name']):\n",
    "        continue\n",
    "    translation = translate[translate['gene_name'] == gene]['gene_id'].values[0][0:15]\n",
    "    if translation not in scores.index:\n",
    "        continue\n",
    "    gt = df[df['Gene Symbol'] == gene]['sign'].values[0]\n",
    "    p = p_val(giraffe_gtex, giraffe_tcga, translation)\n",
    "    if gt == 0:\n",
    "        continue\n",
    "    real = scores[translation]\n",
    "    tot += 1\n",
    "    if real > 0 and gt == 1:\n",
    "        hit += 1\n",
    "        print(str(gene) + \" with p-val \" + str(p) + \" and correct direction\")\n",
    "    elif real < 0 and gt == -1:\n",
    "        hit += 1\n",
    "        print(str(gene) + \" with p-val \" + str(p) + \" and correct direction\")\n",
    "    else:\n",
    "        print(str(gene) + \" with p-val \" + str(p) + \" and wrong direction\")\n",
    "print(str(hit) + \" \" + str(tot))"
   ]
  },
  {
   "cell_type": "markdown",
   "id": "79d5ef5b",
   "metadata": {},
   "source": [
    "# TF Knockdown"
   ]
  },
  {
   "cell_type": "code",
   "execution_count": 267,
   "id": "1a8efb53",
   "metadata": {},
   "outputs": [],
   "source": [
    "giraffe_gtex = giraffe.Giraffe(gtex.to_numpy(), motif.to_numpy(), ppi.to_numpy() + np.eye(ppi.shape[0]), iterations = 50).get_regulation()"
   ]
  },
  {
   "cell_type": "code",
   "execution_count": 270,
   "id": "2b2347c4",
   "metadata": {},
   "outputs": [],
   "source": [
    "intervention = pd.read_csv(\"data/pancreas/raw/ZIC2.csv\")[['Target Gene', 'Mean Expr. of Control', 'Mean Expr. of Treat']]\n",
    "translate = pd.read_csv(\"data/pancreas/raw/gen_v26_mapping.csv\")\n",
    "intervention['diff'] = intervention[intervention.columns[1]] > intervention[intervention.columns[2]]"
   ]
  },
  {
   "cell_type": "code",
   "execution_count": 271,
   "id": "899d813a",
   "metadata": {},
   "outputs": [
    {
     "name": "stdout",
     "output_type": "stream",
     "text": [
      "0.6863169280692266\n"
     ]
    }
   ],
   "source": [
    "tf_index = list(motif.columns).index('ZIC2')\n",
    "score = 0\n",
    "tot = 0\n",
    "a = 0\n",
    "b = 0\n",
    "aa = 0\n",
    "bb = 0\n",
    "for i in range(intervention.shape[0]):\n",
    "    gene = intervention.iloc[i]['Target Gene']\n",
    "    if intervention['Target Gene'][i] not in set(translate['gene_name']):\n",
    "        continue\n",
    "    translation = translate[translate['gene_name'] == intervention['Target Gene'][i]]['gene_id'].values[0][0:15]\n",
    "    if translation not in gtex.index:\n",
    "        continue\n",
    "    tot += 1\n",
    "    if giraffe_gtex[list(gtex.index).index(translation), tf_index] > 0:\n",
    "        a += 1\n",
    "        if intervention.iloc[i]['diff']:\n",
    "            aa += 1\n",
    "            score += 1\n",
    "    else:\n",
    "        b += 1\n",
    "        if not intervention.iloc[i]['diff']:\n",
    "            bb += 1\n",
    "            score += 1\n",
    "print(score / tot)"
   ]
  },
  {
   "cell_type": "code",
   "execution_count": null,
   "id": "bd061a06",
   "metadata": {},
   "outputs": [],
   "source": [
    "'HOXB7': 0.67\n",
    "'FOXO3': 0.53\n",
    "'ZIC2': 0.69"
   ]
  }
 ],
 "metadata": {
  "kernelspec": {
   "display_name": "Python 3 (ipykernel)",
   "language": "python",
   "name": "python3"
  },
  "language_info": {
   "codemirror_mode": {
    "name": "ipython",
    "version": 3
   },
   "file_extension": ".py",
   "mimetype": "text/x-python",
   "name": "python",
   "nbconvert_exporter": "python",
   "pygments_lexer": "ipython3",
   "version": "3.10.6"
  }
 },
 "nbformat": 4,
 "nbformat_minor": 5
}
