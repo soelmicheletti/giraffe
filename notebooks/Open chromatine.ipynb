{
 "cells": [
  {
   "cell_type": "code",
   "execution_count": 1,
   "id": "07c4c0b9",
   "metadata": {},
   "outputs": [],
   "source": [
    "from data.adult_cerebrail_cortex import preprocessing\n",
    "import giraffe\n",
    "import matplotlib.pyplot as plt\n",
    "import pandas as pd\n",
    "import numpy as np\n",
    "import random\n",
    "from scipy.io import mmread"
   ]
  },
  {
   "cell_type": "code",
   "execution_count": null,
   "id": "71bde6e9",
   "metadata": {},
   "outputs": [],
   "source": [
    "https://www.ncbi.nlm.nih.gov/geo/query/acc.cgi?acc=GSE130399\n",
    "https://sites.google.com/a/channing.harvard.edu/kimberlyglass/tools/resources?authuser=0\n",
    "http://cbdm-01.zdv.uni-mainz.de/~galanisl/mippie/download.php"
   ]
  },
  {
   "cell_type": "code",
   "execution_count": 2,
   "id": "54e59b13",
   "metadata": {},
   "outputs": [],
   "source": [
    "cache = True"
   ]
  },
  {
   "cell_type": "code",
   "execution_count": 3,
   "id": "4510a9d3",
   "metadata": {},
   "outputs": [],
   "source": [
    "if not cache:\n",
    "    preprocessing.generate_data()"
   ]
  },
  {
   "cell_type": "code",
   "execution_count": 2,
   "id": "cde3e033",
   "metadata": {},
   "outputs": [],
   "source": [
    "rna = mmread('data/adult_cerebrail_cortex/raw/Adult_CTX_RNA/matrix.mtx')\n",
    "expression = rna.todense()[:, 0:100]\n",
    "genes = pd.read_csv('data/adult_cerebrail_cortex/raw/Adult_CTX_RNA/genes.tsv', header = None, sep = '\\t')\n",
    "cells = pd.read_csv('data/adult_cerebrail_cortex/raw/Adult_CTX_RNA/barcodes.tsv', header = None)"
   ]
  },
  {
   "cell_type": "code",
   "execution_count": 3,
   "id": "d70ddd97",
   "metadata": {},
   "outputs": [],
   "source": [
    "a = mmread('data/adult_cerebrail_cortex/raw/Adult_CTX_DNA/matrix.mtx')"
   ]
  },
  {
   "cell_type": "code",
   "execution_count": 4,
   "id": "4f3fad48",
   "metadata": {},
   "outputs": [
    {
     "data": {
      "text/plain": [
       "<2614863x15191 sparse matrix of type '<class 'numpy.float64'>'\n",
       "\twith 22411881 stored elements in COOrdinate format>"
      ]
     },
     "execution_count": 4,
     "metadata": {},
     "output_type": "execute_result"
    }
   ],
   "source": [
    "a"
   ]
  },
  {
   "cell_type": "code",
   "execution_count": 5,
   "id": "9ed2d391",
   "metadata": {},
   "outputs": [],
   "source": [
    "motif = pd.read_csv(\"data/adult_cerebrail_cortex/motif.txt\", index_col = 0)\n",
    "ppi = pd.read_csv(\"data/adult_cerebrail_cortex/ppi.txt\", index_col = 0)\n",
    "chromatine = pd.read_csv(\"data/adult_cerebrail_cortex/chromatine.txt\", index_col = 0)"
   ]
  },
  {
   "cell_type": "code",
   "execution_count": 6,
   "id": "575c9771",
   "metadata": {},
   "outputs": [
    {
     "name": "stdout",
     "output_type": "stream",
     "text": [
      "(29624, 100)\n",
      "29624\n",
      "15191\n",
      "(29624, 713)\n",
      "(713, 713)\n",
      "(29624, 1)\n"
     ]
    }
   ],
   "source": [
    "print(expression.shape)\n",
    "print(len(genes))\n",
    "print(len(cells))\n",
    "print(motif.shape)\n",
    "print(ppi.shape)\n",
    "print(chromatine.shape)"
   ]
  },
  {
   "cell_type": "code",
   "execution_count": null,
   "id": "e6bb36f4",
   "metadata": {},
   "outputs": [],
   "source": [
    "R = giraffe.Giraffe(expression, motif.to_numpy(), ppi + np.eye(ppi.shape[0]), iterations = 100).get_regulation()"
   ]
  },
  {
   "cell_type": "code",
   "execution_count": 8,
   "id": "3f47ca85",
   "metadata": {},
   "outputs": [],
   "source": [
    "real = np.corrcoef(np.sum(np.abs(R), axis = 1), chromatine.to_numpy().flatten())[0, 1]\n",
    "h = []\n",
    "for i in range(1000):\n",
    "    tmp = chromatine.to_numpy().flatten()\n",
    "    random.shuffle(tmp)\n",
    "    h.append(np.corrcoef(np.sum(np.abs(R), axis = 1), tmp)[0, 1])"
   ]
  },
  {
   "cell_type": "code",
   "execution_count": 9,
   "id": "97927823",
   "metadata": {},
   "outputs": [
    {
     "data": {
      "text/plain": [
       "991"
      ]
     },
     "execution_count": 9,
     "metadata": {},
     "output_type": "execute_result"
    }
   ],
   "source": [
    "np.sum(h < real)"
   ]
  },
  {
   "cell_type": "code",
   "execution_count": 10,
   "id": "1f3f6e8f",
   "metadata": {},
   "outputs": [
    {
     "data": {
      "image/png": "[encoded data removed]",
      "text/plain": [
       "<Figure size 640x480 with 1 Axes>"
      ]
     },
     "metadata": {},
     "output_type": "display_data"
    }
   ],
   "source": [
    "plt.hist(h, bins = 50)\n",
    "plt.axvline(real, color='red', linestyle='dashed', linewidth=3)\n",
    "plt.show()"
   ]
  }
 ],
 "metadata": {
  "kernelspec": {
   "display_name": "Python 3 (ipykernel)",
   "language": "python",
   "name": "python3"
  },
  "language_info": {
   "codemirror_mode": {
    "name": "ipython",
    "version": 3
   },
   "file_extension": ".py",
   "mimetype": "text/x-python",
   "name": "python",
   "nbconvert_exporter": "python",
   "pygments_lexer": "ipython3",
   "version": "3.10.6"
  }
 },
 "nbformat": 4,
 "nbformat_minor": 5
}
