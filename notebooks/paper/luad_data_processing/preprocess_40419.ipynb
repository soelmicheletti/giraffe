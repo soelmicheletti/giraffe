{
 "cells": [
  {
   "cell_type": "code",
   "execution_count": 1,
   "id": "da778fa3-c80c-4498-8c9c-f0eeba4d2737",
   "metadata": {},
   "outputs": [
    {
     "name": "stderr",
     "output_type": "stream",
     "text": [
      "/Users/soel/Library/Python/3.9/lib/python/site-packages/urllib3/__init__.py:34: NotOpenSSLWarning: urllib3 v2.0 only supports OpenSSL 1.1.1+, currently the 'ssl' module is compiled with 'LibreSSL 2.8.3'. See: https://github.com/urllib3/urllib3/issues/3020\n",
      "  warnings.warn(\n"
     ]
    }
   ],
   "source": [
    "import mygene\n",
    "import numpy as np\n",
    "import pandas as pd"
   ]
  },
  {
   "cell_type": "code",
   "execution_count": 2,
   "id": "a087db73-f6a1-46c9-b52c-ee77904abbcf",
   "metadata": {},
   "outputs": [
    {
     "name": "stderr",
     "output_type": "stream",
     "text": [
      "/var/folders/1p/3wbksjf106vcv_9_4w07nk140000gn/T/ipykernel_10876/3223763880.py:1: DtypeWarning: Columns (2) have mixed types. Specify dtype option on import or set low_memory=False.\n",
      "  expr = pd.read_csv(\"raw/GSE40419_LC-87_RPKM_expression.txt\", sep = \"\\t\")\n"
     ]
    }
   ],
   "source": [
    "expr = pd.read_csv(\"raw/GSE40419_LC-87_RPKM_expression.txt\", sep = \"\\t\")"
   ]
  },
  {
   "cell_type": "code",
   "execution_count": 3,
   "id": "b7bc98ee-3a45-4b9e-b891-849c67eb8ef2",
   "metadata": {},
   "outputs": [],
   "source": [
    "expr = pd.DataFrame(expr.iloc[:, 6:].to_numpy(), index = expr['gene'])\n",
    "expr = expr.groupby(level=0).mean()"
   ]
  },
  {
   "cell_type": "code",
   "execution_count": 4,
   "id": "42b47461-188d-44a9-a07d-bcdbc9c0a72f",
   "metadata": {},
   "outputs": [],
   "source": [
    "expr = expr.loc[(expr.sum(axis=1) != 0), :]"
   ]
  },
  {
   "cell_type": "code",
   "execution_count": 5,
   "id": "47a63bf6-b5bd-4731-8ee6-899fb4471cf9",
   "metadata": {},
   "outputs": [
    {
     "name": "stdout",
     "output_type": "stream",
     "text": [
      "0\n",
      "1000\n",
      "2000\n",
      "3000\n",
      "4000\n",
      "5000\n",
      "6000\n",
      "7000\n",
      "8000\n",
      "9000\n",
      "10000\n",
      "11000\n",
      "12000\n",
      "13000\n",
      "14000\n",
      "15000\n",
      "16000\n",
      "17000\n",
      "18000\n",
      "19000\n",
      "20000\n"
     ]
    }
   ],
   "source": [
    "mg = mygene.MyGeneInfo()\n",
    "M = {}\n",
    "i = 0\n",
    "for gene in expr.index:\n",
    "    if i % 1000 == 0:\n",
    "        print(i)\n",
    "    i += 1\n",
    "    result = mg.query(gene, scopes=\"symbol\", fields=[\"ensembl\"], species=\"human\", verbose=False)\n",
    "    hgnc_name = gene\n",
    "    for hit in result[\"hits\"]:\n",
    "        if \"ensembl\" in hit and \"gene\" in hit[\"ensembl\"]:\n",
    "            M[gene] = hit[\"ensembl\"][\"gene\"]"
   ]
  },
  {
   "cell_type": "code",
   "execution_count": 6,
   "id": "3c73457b-19d6-47f1-a7b8-d58ad38af4d0",
   "metadata": {},
   "outputs": [],
   "source": [
    "translation = []\n",
    "for i in range(expr.shape[0]):\n",
    "    sym = expr.index[i]\n",
    "    if sym in M.keys():\n",
    "        translation.append(M[sym])\n",
    "    else:\n",
    "        translation.append(\"None\")\n",
    "expr[\"ENS\"] = translation"
   ]
  },
  {
   "cell_type": "code",
   "execution_count": 7,
   "id": "3415bd4c-0f45-4aa6-b064-37c181eda5d6",
   "metadata": {},
   "outputs": [],
   "source": [
    "exp = pd.DataFrame((expr.iloc[:, 2:(expr.shape[1]-1)]).to_numpy(), index = expr[\"ENS\"])\n",
    "exp = exp.sort_index()\n",
    "exp = exp.drop([\"None\"], axis = 0)"
   ]
  },
  {
   "cell_type": "code",
   "execution_count": 9,
   "id": "a2af8842-76b6-47de-986e-cd9ba09d3f6b",
   "metadata": {},
   "outputs": [],
   "source": [
    "exp.to_csv(\"expression_GEO.csv\")"
   ]
  },
  {
   "cell_type": "code",
   "execution_count": null,
   "id": "53088dc9-95b7-4781-b08d-ba94f01974a3",
   "metadata": {},
   "outputs": [],
   "source": [
    "a = pd.read_csv(\"expression_GEO.c"
   ]
  }
 ],
 "metadata": {
  "kernelspec": {
   "display_name": "Python 3 (ipykernel)",
   "language": "python",
   "name": "python3"
  },
  "language_info": {
   "codemirror_mode": {
    "name": "ipython",
    "version": 3
   },
   "file_extension": ".py",
   "mimetype": "text/x-python",
   "name": "python",
   "nbconvert_exporter": "python",
   "pygments_lexer": "ipython3",
   "version": "3.9.6"
  }
 },
 "nbformat": 4,
 "nbformat_minor": 5
}
