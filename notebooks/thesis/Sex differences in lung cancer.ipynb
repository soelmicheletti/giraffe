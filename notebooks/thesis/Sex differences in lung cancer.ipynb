{
 "cells": [
  {
   "cell_type": "code",
   "execution_count": 1,
   "id": "2be09164",
   "metadata": {},
   "outputs": [],
   "source": [
    "import giraffe\n",
    "import numpy as np\n",
    "import pandas as pd\n",
    "from data.luad import preprocessing\n",
    "from netZooPy.otter.otter import otter"
   ]
  },
  {
   "cell_type": "code",
   "execution_count": 2,
   "id": "3f63518b",
   "metadata": {},
   "outputs": [],
   "source": [
    "cache = True"
   ]
  },
  {
   "cell_type": "code",
   "execution_count": 3,
   "id": "cffc8e9c",
   "metadata": {},
   "outputs": [],
   "source": [
    "if not cache:\n",
    "    preprocessing.generate_data()"
   ]
  },
  {
   "cell_type": "code",
   "execution_count": 4,
   "id": "0cfe7a43",
   "metadata": {},
   "outputs": [
    {
     "name": "stdout",
     "output_type": "stream",
     "text": [
      "(640, 640)\n",
      "(18355, 640)\n",
      "(18355, 640)\n",
      "(18355, 122)\n",
      "(18355, 280)\n",
      "(18355, 238)\n",
      "(18355, 242)\n"
     ]
    }
   ],
   "source": [
    "ppi = pd.read_csv(\"data/luad/ppi.txt\", index_col = 0)\n",
    "print(ppi.shape)\n",
    "\n",
    "motif_male = pd.read_csv(\"data/luad/motif_male.txt\", index_col = 0)\n",
    "print(motif_male.shape)\n",
    "\n",
    "motif_female = pd.read_csv(\"data/luad/motif_female.txt\", index_col = 0)\n",
    "print(motif_female.shape)\n",
    "\n",
    "expression_female_lung = pd.read_csv(\"data/luad/raw/female_lung.csv\", index_col = 0)\n",
    "print(expression_female_lung.shape)\n",
    "\n",
    "expression_female_luad = pd.read_csv(\"data/luad/raw/female_luad.csv\", index_col = 0)\n",
    "print(expression_female_luad.shape)\n",
    "\n",
    "expression_male_lung = pd.read_csv(\"data/luad/raw/male_lung.csv\", index_col = 0)\n",
    "print(expression_male_lung.shape)\n",
    "\n",
    "expression_male_luad = pd.read_csv(\"data/luad/raw/male_luad.csv\", index_col = 0)\n",
    "print(expression_male_luad.shape)"
   ]
  },
  {
   "cell_type": "code",
   "execution_count": null,
   "id": "eaa4e50d",
   "metadata": {},
   "outputs": [],
   "source": [
    "giraffe_male_lung = giraffe.Giraffe(expression_male_lung.to_numpy(), motif_male.to_numpy(), ppi.to_numpy(), iterations = 200).get_regulation()\n",
    "pd.DataFrame(giraffe_male_lung.T, index = motif_male.columns, columns = expression_male_lung.index).to_csv(\"data/luad/giraffe_male_lung.csv\")"
   ]
  },
  {
   "cell_type": "code",
   "execution_count": 6,
   "id": "7cda8f9c",
   "metadata": {},
   "outputs": [],
   "source": [
    "giraffe_male_luad = giraffe.Giraffe(expression_male_luad.to_numpy(), motif_male.to_numpy(), ppi.to_numpy(), iterations = 200).get_regulation()\n",
    "pd.DataFrame(giraffe_male_luad.T, index = motif_male.columns, columns = expression_male_luad.index).to_csv(\"data/luad/giraffe_male_luad.csv\")"
   ]
  },
  {
   "cell_type": "code",
   "execution_count": 7,
   "id": "0c2adbfd",
   "metadata": {},
   "outputs": [],
   "source": [
    "giraffe_female_lung = giraffe.Giraffe(expression_female_lung.to_numpy(), motif_female.to_numpy(), ppi.to_numpy(), iterations = 200).get_regulation()\n",
    "pd.DataFrame(giraffe_female_lung.T, index = motif_female.columns, columns = expression_female_lung.index).to_csv(\"data/luad/giraffe_female_lung.csv\")"
   ]
  },
  {
   "cell_type": "code",
   "execution_count": 8,
   "id": "1c5fec3c",
   "metadata": {},
   "outputs": [],
   "source": [
    "giraffe_female_luad = giraffe.Giraffe(expression_female_luad.to_numpy(), motif_female.to_numpy(), ppi.to_numpy(), iterations = 200).get_regulation()\n",
    "pd.DataFrame(giraffe_female_luad.T, index = motif_female.columns, columns = expression_female_luad.index).to_csv(\"data/luad/giraffe_female_luad.csv\")"
   ]
  },
  {
   "cell_type": "code",
   "execution_count": 5,
   "id": "ec75f1c9",
   "metadata": {},
   "outputs": [],
   "source": [
    "otter_lung_male = otter(motif_male.to_numpy().T, ppi.to_numpy(), np.corrcoef(expression_male_lung.to_numpy()))\n",
    "pd.DataFrame(otter_lung_male, index = motif_male.columns, columns = expression_male_luad.index).to_csv(\"data/luad/otter_lung_male.csv\")"
   ]
  },
  {
   "cell_type": "code",
   "execution_count": 8,
   "id": "92674ae3",
   "metadata": {},
   "outputs": [],
   "source": [
    "otter_lung_female = otter(motif_female.to_numpy().T, ppi.to_numpy(), np.corrcoef(expression_female_lung.to_numpy() + 1e-8))\n",
    "pd.DataFrame(otter_lung_female, index = motif_female.columns, columns = expression_female_luad.index).to_csv(\"data/luad/otter_lung_female.csv\")"
   ]
  }
 ],
 "metadata": {
  "kernelspec": {
   "display_name": "Python 3 (ipykernel)",
   "language": "python",
   "name": "python3"
  },
  "language_info": {
   "codemirror_mode": {
    "name": "ipython",
    "version": 3
   },
   "file_extension": ".py",
   "mimetype": "text/x-python",
   "name": "python",
   "nbconvert_exporter": "python",
   "pygments_lexer": "ipython3",
   "version": "3.10.6"
  }
 },
 "nbformat": 4,
 "nbformat_minor": 5
}
