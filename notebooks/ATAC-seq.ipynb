{
 "cells": [
  {
   "cell_type": "code",
   "execution_count": 2,
   "id": "158e13fe",
   "metadata": {},
   "outputs": [],
   "source": [
    "from data.atac_seq import preprocessing\n",
    "import giraffe\n",
    "import matplotlib.pyplot as plt\n",
    "import numpy as np\n",
    "import pandas as pd\n",
    "import random"
   ]
  },
  {
   "cell_type": "code",
   "execution_count": 3,
   "id": "e1380fbb",
   "metadata": {},
   "outputs": [],
   "source": [
    "cache = True"
   ]
  },
  {
   "cell_type": "code",
   "execution_count": 4,
   "id": "10fe5013",
   "metadata": {},
   "outputs": [],
   "source": [
    "if not cache:\n",
    "    preprocessing.generate_data()"
   ]
  },
  {
   "cell_type": "code",
   "execution_count": null,
   "id": "ce3438e0",
   "metadata": {},
   "outputs": [],
   "source": [
    "https://www.ncbi.nlm.nih.gov/geo/query/acc.cgi?acc=GSE162515"
   ]
  },
  {
   "cell_type": "code",
   "execution_count": 4,
   "id": "aa8956cc",
   "metadata": {},
   "outputs": [],
   "source": [
    "def binarySearch(data, val):\n",
    "    lo, hi = 0, len(data) - 1\n",
    "    best_ind = lo\n",
    "    while lo <= hi:\n",
    "        mid = lo + (hi - lo) // 2\n",
    "        if data[mid] < val:\n",
    "            lo = mid + 1\n",
    "        elif data[mid] > val:\n",
    "            hi = mid - 1\n",
    "        else:\n",
    "            best_ind = mid\n",
    "            break\n",
    "        # check if data[mid] is closer to val than data[best_ind]\n",
    "        if abs(data[mid] - val) < abs(data[best_ind] - val):\n",
    "            best_ind = mid\n",
    "    return best_ind"
   ]
  },
  {
   "cell_type": "code",
   "execution_count": 3,
   "id": "3d9e1355",
   "metadata": {},
   "outputs": [
    {
     "name": "stdout",
     "output_type": "stream",
     "text": [
      "(21345, 87)\n",
      "(21345, 644)\n",
      "(644, 644)\n",
      "(21345, 1)\n"
     ]
    }
   ],
   "source": [
    "atac = pd.read_csv(\"data/atac_seq/raw/GSE162515_ATACseq_logCounts.txt\", sep = '\\t')\n",
    "rna = pd.read_csv(\"data/atac_seq/raw/GSE162515_RNAseq_rawCounts.txt\", sep = '\\t')\n",
    "expression = pd.read_csv(\"data/atac_seq/expression.txt\", index_col = 0)\n",
    "print(expression.shape)\n",
    "motif = pd.read_csv(\"data/atac_seq/motif.txt\", index_col = 0)\n",
    "print(motif.shape)\n",
    "ppi = pd.read_csv(\"data/atac_seq/ppi.csv\", index_col = 0)\n",
    "print(ppi.shape)\n",
    "access = pd.read_csv(\"data/atac_seq/access.txt\", index_col = 0)\n",
    "print(access.shape)"
   ]
  },
  {
   "cell_type": "code",
   "execution_count": 6,
   "id": "dd54a2f1",
   "metadata": {},
   "outputs": [],
   "source": [
    "R = giraffe.Giraffe(expression.to_numpy(), motif.to_numpy(), ppi.to_numpy() + np.eye(ppi.shape[0]), iterations = 10).get_regulation()"
   ]
  },
  {
   "cell_type": "code",
   "execution_count": 11,
   "id": "0e6c4c7b",
   "metadata": {},
   "outputs": [],
   "source": [
    "real = np.corrcoef(np.sum(np.abs(R), axis = 1), access.to_numpy().flatten())[0, 1]\n",
    "h = []\n",
    "for i in range(1000):\n",
    "    tmp = access.to_numpy().flatten()\n",
    "    random.shuffle(tmp)\n",
    "    h.append(np.corrcoef(np.sum(np.abs(R), axis = 1), tmp)[0, 1])"
   ]
  },
  {
   "cell_type": "code",
   "execution_count": 35,
   "id": "fc219e43",
   "metadata": {},
   "outputs": [
    {
     "data": {
      "text/plain": [
       "950"
      ]
     },
     "execution_count": 35,
     "metadata": {},
     "output_type": "execute_result"
    }
   ],
   "source": [
    "np.sum(h < real)"
   ]
  },
  {
   "cell_type": "code",
   "execution_count": 43,
   "id": "01204607",
   "metadata": {},
   "outputs": [
    {
     "data": {
      "image/png": "[encoded data removed]",
      "text/plain": [
       "<Figure size 640x480 with 1 Axes>"
      ]
     },
     "metadata": {},
     "output_type": "display_data"
    }
   ],
   "source": [
    "plt.hist(h, bins = 50)\n",
    "plt.axvline(real, color='red', linestyle='dashed', linewidth=3)\n",
    "plt.show()"
   ]
  },
  {
   "cell_type": "code",
   "execution_count": 8,
   "id": "af10abc1",
   "metadata": {},
   "outputs": [
    {
     "data": {
      "text/plain": [
       "array([[1.        , 0.01076472],\n",
       "       [0.01076472, 1.        ]])"
      ]
     },
     "execution_count": 8,
     "metadata": {},
     "output_type": "execute_result"
    }
   ],
   "source": [
    "np.corrcoef(np.sum(R, axis = 1), acc.to_numpy().flatten())"
   ]
  }
 ],
 "metadata": {
  "kernelspec": {
   "display_name": "Python 3 (ipykernel)",
   "language": "python",
   "name": "python3"
  },
  "language_info": {
   "codemirror_mode": {
    "name": "ipython",
    "version": 3
   },
   "file_extension": ".py",
   "mimetype": "text/x-python",
   "name": "python",
   "nbconvert_exporter": "python",
   "pygments_lexer": "ipython3",
   "version": "3.10.6"
  }
 },
 "nbformat": 4,
 "nbformat_minor": 5
}
