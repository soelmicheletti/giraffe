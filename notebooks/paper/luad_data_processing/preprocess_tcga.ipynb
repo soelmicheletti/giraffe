{
 "cells": [
  {
   "cell_type": "code",
   "execution_count": 1,
   "id": "24f639c5-111b-48e9-a52c-b2b5cb58b8ce",
   "metadata": {},
   "outputs": [],
   "source": [
    "import numpy as np\n",
    "import pandas as pd"
   ]
  },
  {
   "cell_type": "code",
   "execution_count": 2,
   "id": "ea277c1f-b00f-4d9b-8119-b18d6b2f071a",
   "metadata": {},
   "outputs": [
    {
     "name": "stdout",
     "output_type": "stream",
     "text": [
      "0\n",
      "100000\n",
      "200000\n",
      "300000\n",
      "400000\n",
      "500000\n",
      "600000\n",
      "700000\n",
      "800000\n",
      "900000\n",
      "1000000\n",
      "1100000\n",
      "1200000\n",
      "1300000\n",
      "1400000\n",
      "1500000\n",
      "1600000\n",
      "1700000\n",
      "1800000\n"
     ]
    }
   ],
   "source": [
    "expression = pd.read_csv(\"raw/expression.csv\", index_col = 0)\n",
    "condition = pd.read_csv(\"raw/condition.csv\", index_col = 0)\n",
    "ppi = pd.read_csv(\"raw/tissues_ppi.txt\", sep = \"\\t\", header = 0)\n",
    "prior = pd.read_csv(\"raw/tissues_motif.txt\", sep = \"\\t\")\n",
    "\n",
    "genes = [expr[0:15] for expr in expression.index]\n",
    "tfs = list(set(prior.iloc[:, 0]))\n",
    "\n",
    "prior_matrix = pd.DataFrame(0, index = genes, columns = tfs)\n",
    "ppi_matrix = pd.DataFrame(0, index = tfs, columns = tfs)\n",
    "\n",
    "for i in range(ppi.shape[0]):\n",
    "    if ppi.iloc[i, 2] != 0:\n",
    "        u = ppi.iloc[i, 0]\n",
    "        v = ppi.iloc[i, 1]\n",
    "        ppi_matrix[u][v] = 1\n",
    "        ppi_matrix[v][u] = 1\n",
    "\n",
    "prior = prior[prior.iloc[:,2] == 1]\n",
    "for i in range(prior.shape[0]):\n",
    "    if i % 100000 == 0:\n",
    "        print(i)\n",
    "    tf = prior.iloc[i, 0]\n",
    "    target = prior.iloc[i, 1]\n",
    "    prior_matrix[tf][target] = 1"
   ]
  },
  {
   "cell_type": "code",
   "execution_count": 19,
   "id": "36ef5601-08c4-48ae-9bbb-16108cdd097c",
   "metadata": {},
   "outputs": [],
   "source": [
    "expression.index = genes\n",
    "expr = expression.sort_index()\n",
    "prior_matrix = prior_matrix.sort_index()"
   ]
  },
  {
   "cell_type": "code",
   "execution_count": 28,
   "id": "5e23c624-3c25-49f5-b1f1-5caa3156113e",
   "metadata": {},
   "outputs": [],
   "source": [
    "prior_matrix.to_csv(\"prior_matrix.csv\")"
   ]
  },
  {
   "cell_type": "code",
   "execution_count": 31,
   "id": "d8325eae-33eb-45af-9389-75ef1c151d3e",
   "metadata": {},
   "outputs": [],
   "source": [
    "a = pd.read_csv(\"prior_matrix.csv\", index_col = 0)"
   ]
  }
 ],
 "metadata": {
  "kernelspec": {
   "display_name": "Python 3 (ipykernel)",
   "language": "python",
   "name": "python3"
  },
  "language_info": {
   "codemirror_mode": {
    "name": "ipython",
    "version": 3
   },
   "file_extension": ".py",
   "mimetype": "text/x-python",
   "name": "python",
   "nbconvert_exporter": "python",
   "pygments_lexer": "ipython3",
   "version": "3.9.6"
  }
 },
 "nbformat": 4,
 "nbformat_minor": 5
}
